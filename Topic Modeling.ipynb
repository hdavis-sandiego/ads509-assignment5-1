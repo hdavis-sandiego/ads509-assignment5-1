{
 "cells": [
  {
   "cell_type": "markdown",
   "id": "bce2bb89",
   "metadata": {},
   "source": [
    "# ADS 509 Assignment 5.1: Topic Modeling\n",
    "\n",
    "This notebook holds Assignment 5.1 for Module 5 in ADS 509, Applied Text Mining. Work through this notebook, writing code and answering questions where required. \n",
    "\n",
    "In this assignment you will work with a categorical corpus that accompanies `nltk`. You will build the three types of topic models described in Chapter 8 of _Blueprints for Text Analytics using Python_: NMF, LSA, and LDA. You will compare these models to the true categories. \n"
   ]
  },
  {
   "cell_type": "code",
   "execution_count": 1,
   "id": "a85bce08",
   "metadata": {},
   "outputs": [
    {
     "name": "stdout",
     "output_type": "stream",
     "text": [
      "Python 3.9.7\r\n"
     ]
    },
    {
     "name": "stderr",
     "output_type": "stream",
     "text": [
      "[nltk_data] Downloading package brown to\n",
      "[nltk_data]     /Users/halledavis/nltk_data...\n",
      "[nltk_data]   Package brown is already up-to-date!\n",
      "/Users/halledavis/opt/anaconda3/lib/python3.9/site-packages/tensorflow/python/framework/dtypes.py:205: DeprecationWarning: `np.bool8` is a deprecated alias for `np.bool_`.  (Deprecated NumPy 1.24)\n",
      "  np.bool8: (False, True),\n",
      "/Users/halledavis/opt/anaconda3/lib/python3.9/site-packages/tensorboard/compat/tensorflow_stub/dtypes.py:326: DeprecationWarning: `np.bool8` is a deprecated alias for `np.bool_`.  (Deprecated NumPy 1.24)\n",
      "  np.bool8: (False, True),\n",
      "Using TensorFlow backend.\n",
      "/Users/halledavis/opt/anaconda3/lib/python3.9/site-packages/keras/callbacks.py:15: DeprecationWarning: Using or importing the ABCs from 'collections' instead of from 'collections.abc' is deprecated since Python 3.3, and in 3.10 it will stop working\n",
      "  from collections import Iterable\n"
     ]
    }
   ],
   "source": [
    "# These libraries may be useful to you\n",
    "\n",
    "#!pip install pyLDAvis==3.4.1 --user  #You need to restart the Kernel after installation.\n",
    "# You also need a Python version => 3.9.0\n",
    "!python -V ## added\n",
    "from nltk.corpus import brown\n",
    "import nltk ## addded\n",
    "nltk.download('brown') ## addded\n",
    "\n",
    "import numpy as np\n",
    "import pandas as pd\n",
    "from tqdm.auto import tqdm\n",
    "\n",
    "import pyLDAvis\n",
    "import pyLDAvis.lda_model\n",
    "import pyLDAvis.gensim_models\n",
    "\n",
    "#!pip install spacy -q ## addded\n",
    "#!python -m spacy download en_core_web_sm -q ## addded\n",
    "import spacy\n",
    "from sklearn.feature_extraction.text import TfidfVectorizer, CountVectorizer\n",
    "from sklearn.decomposition import NMF, TruncatedSVD, LatentDirichletAllocation\n",
    "\n",
    "from spacy.lang.en.stop_words import STOP_WORDS as stopwords\n",
    "\n",
    "from collections import Counter, defaultdict\n",
    "\n",
    "nlp = spacy.load('en_core_web_sm')"
   ]
  },
  {
   "cell_type": "code",
   "execution_count": 2,
   "id": "494de237",
   "metadata": {},
   "outputs": [],
   "source": [
    "# This function comes from the BTAP repo.\n",
    "\n",
    "def display_topics(model, features, no_top_words=5):\n",
    "    for topic, words in enumerate(model.components_):\n",
    "        total = words.sum()\n",
    "        largest = words.argsort()[::-1] # invert sort order\n",
    "        print(\"\\nTopic %02d\" % topic)\n",
    "        for i in range(0, no_top_words):\n",
    "            print(\"  %s (%2.2f)\" % (features[largest[i]], abs(words[largest[i]]*100.0/total)))"
   ]
  },
  {
   "cell_type": "markdown",
   "id": "a30a901c",
   "metadata": {},
   "source": [
    "## Getting to Know the Brown Corpus\n",
    "\n",
    "Let's spend a bit of time getting to know what's in the Brown corpus, our NLTK example of an \"overlapping\" corpus."
   ]
  },
  {
   "cell_type": "code",
   "execution_count": 3,
   "id": "457c59ed",
   "metadata": {
    "scrolled": true
   },
   "outputs": [
    {
     "name": "stdout",
     "output_type": "stream",
     "text": [
      "For adventure we have 29 articles.\n",
      "For belles_lettres we have 75 articles.\n",
      "For editorial we have 27 articles.\n",
      "For fiction we have 29 articles.\n",
      "For government we have 30 articles.\n",
      "For hobbies we have 36 articles.\n",
      "For humor we have 9 articles.\n",
      "For learned we have 80 articles.\n",
      "For lore we have 48 articles.\n",
      "For mystery we have 24 articles.\n",
      "For news we have 44 articles.\n",
      "For religion we have 17 articles.\n",
      "For reviews we have 17 articles.\n",
      "For romance we have 29 articles.\n",
      "For science_fiction we have 6 articles.\n"
     ]
    }
   ],
   "source": [
    "# categories of articles in Brown corpus\n",
    "for category in brown.categories() :\n",
    "    print(f\"For {category} we have {len(brown.fileids(categories=category))} articles.\")"
   ]
  },
  {
   "cell_type": "markdown",
   "id": "23fb133c",
   "metadata": {},
   "source": [
    "Let's create a dataframe of the articles in of hobbies, editorial, government, news, and romance."
   ]
  },
  {
   "cell_type": "code",
   "execution_count": 4,
   "id": "18f50b9d",
   "metadata": {},
   "outputs": [
    {
     "data": {
      "text/plain": [
       "(166, 3)"
      ]
     },
     "execution_count": 4,
     "metadata": {},
     "output_type": "execute_result"
    }
   ],
   "source": [
    "categories = ['editorial','government','news','romance','hobbies'] \n",
    "\n",
    "category_list = []\n",
    "file_ids = []\n",
    "texts = []\n",
    "\n",
    "for category in categories : \n",
    "    for file_id in brown.fileids(categories=category) :\n",
    "        \n",
    "        # build some lists for a dataframe\n",
    "        category_list.append(category)\n",
    "        file_ids.append(file_id)\n",
    "        \n",
    "        text = brown.words(fileids=file_id)\n",
    "        texts.append(\" \".join(text))\n",
    "\n",
    "        \n",
    "        \n",
    "df = pd.DataFrame()\n",
    "df['category'] = category_list\n",
    "df['id'] = file_ids\n",
    "df['text'] = texts \n",
    "\n",
    "df.shape"
   ]
  },
  {
   "cell_type": "code",
   "execution_count": 5,
   "id": "586f47de",
   "metadata": {},
   "outputs": [],
   "source": [
    "# Let's add some helpful columns on the df\n",
    "df['char_len'] = df['text'].apply(len)\n",
    "df['word_len'] = df['text'].apply(lambda x: len(x.split()))\n"
   ]
  },
  {
   "cell_type": "code",
   "execution_count": 6,
   "id": "4aad0430",
   "metadata": {
    "scrolled": true
   },
   "outputs": [
    {
     "data": {
      "text/html": [
       "<div>\n",
       "<style scoped>\n",
       "    .dataframe tbody tr th:only-of-type {\n",
       "        vertical-align: middle;\n",
       "    }\n",
       "\n",
       "    .dataframe tbody tr th {\n",
       "        vertical-align: top;\n",
       "    }\n",
       "\n",
       "    .dataframe thead th {\n",
       "        text-align: right;\n",
       "    }\n",
       "</style>\n",
       "<table border=\"1\" class=\"dataframe\">\n",
       "  <thead>\n",
       "    <tr style=\"text-align: right;\">\n",
       "      <th></th>\n",
       "      <th>category</th>\n",
       "      <th>id</th>\n",
       "      <th>text</th>\n",
       "      <th>char_len</th>\n",
       "      <th>word_len</th>\n",
       "    </tr>\n",
       "  </thead>\n",
       "  <tbody>\n",
       "    <tr>\n",
       "      <th>0</th>\n",
       "      <td>editorial</td>\n",
       "      <td>cb01</td>\n",
       "      <td>Assembly session brought much good The General...</td>\n",
       "      <td>12659</td>\n",
       "      <td>2200</td>\n",
       "    </tr>\n",
       "    <tr>\n",
       "      <th>1</th>\n",
       "      <td>editorial</td>\n",
       "      <td>cb02</td>\n",
       "      <td>Must Berlin remain divided ? ? The inference h...</td>\n",
       "      <td>12544</td>\n",
       "      <td>2234</td>\n",
       "    </tr>\n",
       "    <tr>\n",
       "      <th>2</th>\n",
       "      <td>editorial</td>\n",
       "      <td>cb03</td>\n",
       "      <td>A good man departs . Goodby , Mr. Sam . Sam Ra...</td>\n",
       "      <td>11871</td>\n",
       "      <td>2244</td>\n",
       "    </tr>\n",
       "    <tr>\n",
       "      <th>3</th>\n",
       "      <td>editorial</td>\n",
       "      <td>cb04</td>\n",
       "      <td>A shock wave from Africa Word of Dag Hammarskj...</td>\n",
       "      <td>12284</td>\n",
       "      <td>2230</td>\n",
       "    </tr>\n",
       "    <tr>\n",
       "      <th>4</th>\n",
       "      <td>editorial</td>\n",
       "      <td>cb05</td>\n",
       "      <td>Help when needed If the Dominican Republic ach...</td>\n",
       "      <td>12479</td>\n",
       "      <td>2241</td>\n",
       "    </tr>\n",
       "    <tr>\n",
       "      <th>...</th>\n",
       "      <td>...</td>\n",
       "      <td>...</td>\n",
       "      <td>...</td>\n",
       "      <td>...</td>\n",
       "      <td>...</td>\n",
       "    </tr>\n",
       "    <tr>\n",
       "      <th>161</th>\n",
       "      <td>hobbies</td>\n",
       "      <td>ce32</td>\n",
       "      <td>Throughout history , the man who showed superi...</td>\n",
       "      <td>13629</td>\n",
       "      <td>2339</td>\n",
       "    </tr>\n",
       "    <tr>\n",
       "      <th>162</th>\n",
       "      <td>hobbies</td>\n",
       "      <td>ce33</td>\n",
       "      <td>Sixty miles north of New York City where the w...</td>\n",
       "      <td>11845</td>\n",
       "      <td>2233</td>\n",
       "    </tr>\n",
       "    <tr>\n",
       "      <th>163</th>\n",
       "      <td>hobbies</td>\n",
       "      <td>ce34</td>\n",
       "      <td>In the period since the end of World War 2 , -...</td>\n",
       "      <td>13029</td>\n",
       "      <td>2300</td>\n",
       "    </tr>\n",
       "    <tr>\n",
       "      <th>164</th>\n",
       "      <td>hobbies</td>\n",
       "      <td>ce35</td>\n",
       "      <td>New rule no. 2 : : Don't build from the outsid...</td>\n",
       "      <td>11800</td>\n",
       "      <td>2272</td>\n",
       "    </tr>\n",
       "    <tr>\n",
       "      <th>165</th>\n",
       "      <td>hobbies</td>\n",
       "      <td>ce36</td>\n",
       "      <td>There comes a time in the lives of most of us ...</td>\n",
       "      <td>11682</td>\n",
       "      <td>2232</td>\n",
       "    </tr>\n",
       "  </tbody>\n",
       "</table>\n",
       "<p>166 rows × 5 columns</p>\n",
       "</div>"
      ],
      "text/plain": [
       "      category    id                                               text  \\\n",
       "0    editorial  cb01  Assembly session brought much good The General...   \n",
       "1    editorial  cb02  Must Berlin remain divided ? ? The inference h...   \n",
       "2    editorial  cb03  A good man departs . Goodby , Mr. Sam . Sam Ra...   \n",
       "3    editorial  cb04  A shock wave from Africa Word of Dag Hammarskj...   \n",
       "4    editorial  cb05  Help when needed If the Dominican Republic ach...   \n",
       "..         ...   ...                                                ...   \n",
       "161    hobbies  ce32  Throughout history , the man who showed superi...   \n",
       "162    hobbies  ce33  Sixty miles north of New York City where the w...   \n",
       "163    hobbies  ce34  In the period since the end of World War 2 , -...   \n",
       "164    hobbies  ce35  New rule no. 2 : : Don't build from the outsid...   \n",
       "165    hobbies  ce36  There comes a time in the lives of most of us ...   \n",
       "\n",
       "     char_len  word_len  \n",
       "0       12659      2200  \n",
       "1       12544      2234  \n",
       "2       11871      2244  \n",
       "3       12284      2230  \n",
       "4       12479      2241  \n",
       "..        ...       ...  \n",
       "161     13629      2339  \n",
       "162     11845      2233  \n",
       "163     13029      2300  \n",
       "164     11800      2272  \n",
       "165     11682      2232  \n",
       "\n",
       "[166 rows x 5 columns]"
      ]
     },
     "execution_count": 6,
     "metadata": {},
     "output_type": "execute_result"
    }
   ],
   "source": [
    "df"
   ]
  },
  {
   "cell_type": "code",
   "execution_count": 7,
   "id": "2128fd2d",
   "metadata": {},
   "outputs": [
    {
     "data": {
      "text/plain": [
       "<AxesSubplot: xlabel='category'>"
      ]
     },
     "execution_count": 7,
     "metadata": {},
     "output_type": "execute_result"
    },
    {
     "data": {
      "image/png": "[encoded data removed]",
      "text/plain": [
       "<Figure size 720x432 with 1 Axes>"
      ]
     },
     "metadata": {
      "needs_background": "light"
     },
     "output_type": "display_data"
    }
   ],
   "source": [
    "%matplotlib inline\n",
    "df.groupby('category').agg({'word_len': 'mean'}).plot.bar(figsize=(10,6))"
   ]
  },
  {
   "cell_type": "markdown",
   "id": "554ffeb5",
   "metadata": {},
   "source": [
    "Now do our TF-IDF and Count vectorizations."
   ]
  },
  {
   "cell_type": "code",
   "execution_count": 8,
   "id": "21a7d247",
   "metadata": {
    "scrolled": true
   },
   "outputs": [
    {
     "name": "stderr",
     "output_type": "stream",
     "text": [
      "/Users/halledavis/opt/anaconda3/lib/python3.9/site-packages/sklearn/feature_extraction/text.py:404: UserWarning: Your stop_words may be inconsistent with your preprocessing. Tokenizing the stop words generated tokens ['ll', 've'] not in stop_words.\n",
      "  warnings.warn(\n"
     ]
    },
    {
     "data": {
      "text/plain": [
       "(166, 4941)"
      ]
     },
     "execution_count": 8,
     "metadata": {},
     "output_type": "execute_result"
    }
   ],
   "source": [
    "count_text_vectorizer = CountVectorizer(stop_words=list(stopwords), min_df=5, max_df=0.7)\n",
    "count_text_vectors = count_text_vectorizer.fit_transform(df[\"text\"])\n",
    "count_text_vectors.shape"
   ]
  },
  {
   "cell_type": "code",
   "execution_count": 9,
   "id": "991254a8",
   "metadata": {},
   "outputs": [
    {
     "data": {
      "text/plain": [
       "<166x4941 sparse matrix of type '<class 'numpy.int64'>'\n",
       "\twith 72541 stored elements in Compressed Sparse Row format>"
      ]
     },
     "execution_count": 9,
     "metadata": {},
     "output_type": "execute_result"
    }
   ],
   "source": [
    "count_text_vectors"
   ]
  },
  {
   "cell_type": "code",
   "execution_count": 10,
   "id": "875deba9",
   "metadata": {},
   "outputs": [
    {
     "data": {
      "text/plain": [
       "(166, 4941)"
      ]
     },
     "execution_count": 10,
     "metadata": {},
     "output_type": "execute_result"
    }
   ],
   "source": [
    "tfidf_text_vectorizer = TfidfVectorizer(stop_words=list(stopwords), min_df=5, max_df=0.7)\n",
    "tfidf_text_vectors = tfidf_text_vectorizer.fit_transform(df['text'])\n",
    "tfidf_text_vectors.shape"
   ]
  },
  {
   "cell_type": "code",
   "execution_count": 11,
   "id": "2f5ed639",
   "metadata": {},
   "outputs": [
    {
     "data": {
      "text/plain": [
       "<166x4941 sparse matrix of type '<class 'numpy.float64'>'\n",
       "\twith 72541 stored elements in Compressed Sparse Row format>"
      ]
     },
     "execution_count": 11,
     "metadata": {},
     "output_type": "execute_result"
    }
   ],
   "source": [
    "tfidf_text_vectors"
   ]
  },
  {
   "cell_type": "markdown",
   "id": "a1062b21",
   "metadata": {},
   "source": [
    "Q: What do the two data frames `count_text_vectors` and `tfidf_text_vectors` hold? \n",
    "\n",
    "A: Both are sparse document term matrixes where the columns are words from the corpus and the rows are documents in the corpus. They differ in that the count_text_vectors matrix's values/elements is simply the frequency of how much the word shows up in the document; whereas tfidf_text_vector's values/elements is both frequency and importance of the words."
   ]
  },
  {
   "cell_type": "markdown",
   "id": "f77c3f94",
   "metadata": {},
   "source": [
    "## Fitting a Non-Negative Matrix Factorization Model\n",
    "\n",
    "In this section the code to fit a five-topic NMF model has already been written. This code comes directly from the [BTAP repo](https://github.com/blueprints-for-text-analytics-python/blueprints-text), which will help you tremendously in the coming sections. "
   ]
  },
  {
   "cell_type": "code",
   "execution_count": 12,
   "id": "d28745a3",
   "metadata": {},
   "outputs": [],
   "source": [
    "nmf_text_model = NMF(n_components=5, random_state=314)\n",
    "W_text_matrix = nmf_text_model.fit_transform(tfidf_text_vectors)\n",
    "H_text_matrix = nmf_text_model.components_"
   ]
  },
  {
   "cell_type": "code",
   "execution_count": 13,
   "id": "a67185e7",
   "metadata": {},
   "outputs": [
    {
     "name": "stdout",
     "output_type": "stream",
     "text": [
      "\n",
      "Topic 00\n",
      "  mr (0.51)\n",
      "  president (0.45)\n",
      "  kennedy (0.43)\n",
      "  united (0.42)\n",
      "  khrushchev (0.40)\n",
      "\n",
      "Topic 01\n",
      "  said (0.88)\n",
      "  didn (0.46)\n",
      "  ll (0.45)\n",
      "  thought (0.42)\n",
      "  man (0.37)\n",
      "\n",
      "Topic 02\n",
      "  state (0.39)\n",
      "  development (0.36)\n",
      "  tax (0.33)\n",
      "  sales (0.30)\n",
      "  program (0.25)\n",
      "\n",
      "Topic 03\n",
      "  mrs (2.61)\n",
      "  mr (0.78)\n",
      "  said (0.63)\n",
      "  miss (0.52)\n",
      "  car (0.51)\n",
      "\n",
      "Topic 04\n",
      "  game (1.02)\n",
      "  league (0.74)\n",
      "  ball (0.72)\n",
      "  baseball (0.71)\n",
      "  team (0.66)\n"
     ]
    }
   ],
   "source": [
    "display_topics(nmf_text_model, tfidf_text_vectorizer.get_feature_names_out())"
   ]
  },
  {
   "cell_type": "markdown",
   "id": "fee51e9b",
   "metadata": {},
   "source": [
    "Now some work for you to do. Compare the NMF factorization to the original categories from the Brown Corpus.\n",
    "\n",
    "We are interested in the extent to which our NMF factorization agrees or disagrees with the original categories in the corpus. For each topic in your NMF model, tally the Brown categories and interpret the results. \n"
   ]
  },
  {
   "cell_type": "code",
   "execution_count": 14,
   "id": "7c8c8eb0",
   "metadata": {},
   "outputs": [],
   "source": [
    "# Let's go document by document and make a list of brown categories by topic\n",
    "topic_to_category = defaultdict(list)\n",
    "for idx, row in enumerate(W_text_matrix) : \n",
    "    topic = np.where(row == np.amax(row))[0]\n",
    "    category = df[\"category\"].iloc[idx]\n",
    "    \n",
    "    topic_to_category[topic[0]].append(category)"
   ]
  },
  {
   "cell_type": "code",
   "execution_count": 15,
   "id": "3560447f",
   "metadata": {},
   "outputs": [
    {
     "data": {
      "text/plain": [
       "defaultdict(list,\n",
       "            {2: ['editorial',\n",
       "              'editorial',\n",
       "              'government',\n",
       "              'government',\n",
       "              'government',\n",
       "              'government',\n",
       "              'government',\n",
       "              'government',\n",
       "              'government',\n",
       "              'government',\n",
       "              'government',\n",
       "              'government',\n",
       "              'government',\n",
       "              'government',\n",
       "              'government',\n",
       "              'government',\n",
       "              'government',\n",
       "              'government',\n",
       "              'government',\n",
       "              'government',\n",
       "              'government',\n",
       "              'government',\n",
       "              'government',\n",
       "              'government',\n",
       "              'government',\n",
       "              'government',\n",
       "              'government',\n",
       "              'government',\n",
       "              'news',\n",
       "              'news',\n",
       "              'news',\n",
       "              'news',\n",
       "              'news',\n",
       "              'news',\n",
       "              'news',\n",
       "              'news',\n",
       "              'news',\n",
       "              'news',\n",
       "              'news',\n",
       "              'hobbies',\n",
       "              'hobbies',\n",
       "              'hobbies',\n",
       "              'hobbies',\n",
       "              'hobbies',\n",
       "              'hobbies',\n",
       "              'hobbies',\n",
       "              'hobbies',\n",
       "              'hobbies',\n",
       "              'hobbies',\n",
       "              'hobbies',\n",
       "              'hobbies',\n",
       "              'hobbies',\n",
       "              'hobbies',\n",
       "              'hobbies',\n",
       "              'hobbies',\n",
       "              'hobbies',\n",
       "              'hobbies',\n",
       "              'hobbies',\n",
       "              'hobbies',\n",
       "              'hobbies',\n",
       "              'hobbies',\n",
       "              'hobbies',\n",
       "              'hobbies',\n",
       "              'hobbies',\n",
       "              'hobbies'],\n",
       "             0: ['editorial',\n",
       "              'editorial',\n",
       "              'editorial',\n",
       "              'editorial',\n",
       "              'editorial',\n",
       "              'editorial',\n",
       "              'editorial',\n",
       "              'editorial',\n",
       "              'editorial',\n",
       "              'editorial',\n",
       "              'editorial',\n",
       "              'editorial',\n",
       "              'editorial',\n",
       "              'editorial',\n",
       "              'editorial',\n",
       "              'editorial',\n",
       "              'editorial',\n",
       "              'editorial',\n",
       "              'editorial',\n",
       "              'editorial',\n",
       "              'government',\n",
       "              'government',\n",
       "              'government',\n",
       "              'government',\n",
       "              'news',\n",
       "              'news',\n",
       "              'news',\n",
       "              'news',\n",
       "              'news',\n",
       "              'news',\n",
       "              'news',\n",
       "              'news'],\n",
       "             1: ['editorial',\n",
       "              'editorial',\n",
       "              'editorial',\n",
       "              'editorial',\n",
       "              'romance',\n",
       "              'romance',\n",
       "              'romance',\n",
       "              'romance',\n",
       "              'romance',\n",
       "              'romance',\n",
       "              'romance',\n",
       "              'romance',\n",
       "              'romance',\n",
       "              'romance',\n",
       "              'romance',\n",
       "              'romance',\n",
       "              'romance',\n",
       "              'romance',\n",
       "              'romance',\n",
       "              'romance',\n",
       "              'romance',\n",
       "              'romance',\n",
       "              'romance',\n",
       "              'romance',\n",
       "              'romance',\n",
       "              'romance',\n",
       "              'romance',\n",
       "              'romance',\n",
       "              'romance',\n",
       "              'romance',\n",
       "              'romance',\n",
       "              'romance',\n",
       "              'romance',\n",
       "              'hobbies',\n",
       "              'hobbies',\n",
       "              'hobbies',\n",
       "              'hobbies',\n",
       "              'hobbies',\n",
       "              'hobbies',\n",
       "              'hobbies',\n",
       "              'hobbies'],\n",
       "             4: ['editorial',\n",
       "              'news',\n",
       "              'news',\n",
       "              'news',\n",
       "              'news',\n",
       "              'news',\n",
       "              'news',\n",
       "              'news',\n",
       "              'news',\n",
       "              'hobbies'],\n",
       "             3: ['news',\n",
       "              'news',\n",
       "              'news',\n",
       "              'news',\n",
       "              'news',\n",
       "              'news',\n",
       "              'news',\n",
       "              'news',\n",
       "              'news',\n",
       "              'news',\n",
       "              'news',\n",
       "              'news',\n",
       "              'news',\n",
       "              'news',\n",
       "              'news',\n",
       "              'news',\n",
       "              'news',\n",
       "              'hobbies']})"
      ]
     },
     "execution_count": 15,
     "metadata": {},
     "output_type": "execute_result"
    }
   ],
   "source": [
    "topic_to_category"
   ]
  },
  {
   "cell_type": "markdown",
   "id": "f8d4e2bc",
   "metadata": {},
   "source": [
    "Q: How does your five-topic NMF model compare to the original Brown categories? \n",
    "\n",
    "A: Topic 0 is primarily editorial (20/32 documents).\n",
    "Topic 1 is primarily romance (29/41) documents).\n",
    "Topic 2 is basically half government (26 documents) half hobbies (27 documents).\n",
    "Topic 3 is all news (except 1 doc).\n",
    "Topic 4 is all news (except 2 docs).\n",
    "\n",
    "So from what we're seeing the NMF documents generally are at least halfway associated with a Brown category and up to 90% similar. I think this is pretty homogenous/well representative of the original Brown categories."
   ]
  },
  {
   "cell_type": "markdown",
   "id": "82e37cb5",
   "metadata": {},
   "source": [
    "## Fitting an LSA Model\n",
    "\n",
    "In this section, follow the example from the repository and fit an LSA model (called a \"TruncatedSVD\" in `sklearn`). Again fit a five-topic model and compare it to the actual categories in the Brown corpus. Use the TF-IDF vectors for your fit, as above. \n",
    "\n",
    "To be explicit, we are once again interested in the extent to which this LSA factorization agrees or disagrees with the original categories in the corpus. For each topic in your model, tally the Brown categories and interpret the results. \n"
   ]
  },
  {
   "cell_type": "code",
   "execution_count": 16,
   "id": "00b53d3d",
   "metadata": {},
   "outputs": [],
   "source": [
    "# Your code here\n",
    "\n",
    "svd_para_model = TruncatedSVD(n_components = 5, random_state=314)\n",
    "W_text_matrix = svd_para_model.fit_transform(tfidf_text_vectors)\n",
    "H_text_matrix = svd_para_model.components_"
   ]
  },
  {
   "cell_type": "code",
   "execution_count": 17,
   "id": "0a7c2c95",
   "metadata": {},
   "outputs": [],
   "source": [
    "topic_to_category = defaultdict(list)\n",
    "for idx, row in enumerate(W_text_matrix) : \n",
    "    topic = np.where(row == np.amax(row))[0]\n",
    "    category = df[\"category\"].iloc[idx]\n",
    "    \n",
    "    topic_to_category[topic[0]].append(category)"
   ]
  },
  {
   "cell_type": "code",
   "execution_count": 18,
   "id": "e03a4005",
   "metadata": {},
   "outputs": [
    {
     "data": {
      "text/plain": [
       "defaultdict(list,\n",
       "            {0: ['editorial',\n",
       "              'editorial',\n",
       "              'editorial',\n",
       "              'editorial',\n",
       "              'editorial',\n",
       "              'editorial',\n",
       "              'editorial',\n",
       "              'editorial',\n",
       "              'editorial',\n",
       "              'editorial',\n",
       "              'editorial',\n",
       "              'editorial',\n",
       "              'editorial',\n",
       "              'editorial',\n",
       "              'editorial',\n",
       "              'editorial',\n",
       "              'editorial',\n",
       "              'editorial',\n",
       "              'editorial',\n",
       "              'editorial',\n",
       "              'editorial',\n",
       "              'editorial',\n",
       "              'editorial',\n",
       "              'editorial',\n",
       "              'editorial',\n",
       "              'editorial',\n",
       "              'editorial',\n",
       "              'government',\n",
       "              'government',\n",
       "              'government',\n",
       "              'government',\n",
       "              'government',\n",
       "              'government',\n",
       "              'government',\n",
       "              'government',\n",
       "              'government',\n",
       "              'government',\n",
       "              'government',\n",
       "              'government',\n",
       "              'government',\n",
       "              'government',\n",
       "              'government',\n",
       "              'government',\n",
       "              'government',\n",
       "              'government',\n",
       "              'government',\n",
       "              'government',\n",
       "              'government',\n",
       "              'government',\n",
       "              'government',\n",
       "              'government',\n",
       "              'government',\n",
       "              'government',\n",
       "              'government',\n",
       "              'government',\n",
       "              'government',\n",
       "              'government',\n",
       "              'news',\n",
       "              'news',\n",
       "              'news',\n",
       "              'news',\n",
       "              'news',\n",
       "              'news',\n",
       "              'news',\n",
       "              'news',\n",
       "              'news',\n",
       "              'news',\n",
       "              'news',\n",
       "              'news',\n",
       "              'news',\n",
       "              'news',\n",
       "              'news',\n",
       "              'news',\n",
       "              'news',\n",
       "              'news',\n",
       "              'news',\n",
       "              'news',\n",
       "              'news',\n",
       "              'news',\n",
       "              'news',\n",
       "              'news',\n",
       "              'news',\n",
       "              'news',\n",
       "              'news',\n",
       "              'news',\n",
       "              'news',\n",
       "              'news',\n",
       "              'news',\n",
       "              'news',\n",
       "              'news',\n",
       "              'news',\n",
       "              'romance',\n",
       "              'romance',\n",
       "              'romance',\n",
       "              'romance',\n",
       "              'romance',\n",
       "              'romance',\n",
       "              'romance',\n",
       "              'romance',\n",
       "              'romance',\n",
       "              'romance',\n",
       "              'romance',\n",
       "              'romance',\n",
       "              'romance',\n",
       "              'romance',\n",
       "              'romance',\n",
       "              'romance',\n",
       "              'romance',\n",
       "              'romance',\n",
       "              'romance',\n",
       "              'romance',\n",
       "              'romance',\n",
       "              'hobbies',\n",
       "              'hobbies',\n",
       "              'hobbies',\n",
       "              'hobbies',\n",
       "              'hobbies',\n",
       "              'hobbies',\n",
       "              'hobbies',\n",
       "              'hobbies',\n",
       "              'hobbies',\n",
       "              'hobbies',\n",
       "              'hobbies',\n",
       "              'hobbies',\n",
       "              'hobbies',\n",
       "              'hobbies',\n",
       "              'hobbies',\n",
       "              'hobbies',\n",
       "              'hobbies',\n",
       "              'hobbies',\n",
       "              'hobbies',\n",
       "              'hobbies',\n",
       "              'hobbies',\n",
       "              'hobbies',\n",
       "              'hobbies',\n",
       "              'hobbies',\n",
       "              'hobbies',\n",
       "              'hobbies',\n",
       "              'hobbies',\n",
       "              'hobbies',\n",
       "              'hobbies',\n",
       "              'hobbies',\n",
       "              'hobbies',\n",
       "              'hobbies',\n",
       "              'hobbies',\n",
       "              'hobbies',\n",
       "              'hobbies',\n",
       "              'hobbies'],\n",
       "             4: ['news', 'news', 'news', 'news', 'news', 'news', 'news'],\n",
       "             3: ['news', 'news', 'news'],\n",
       "             1: ['romance',\n",
       "              'romance',\n",
       "              'romance',\n",
       "              'romance',\n",
       "              'romance',\n",
       "              'romance',\n",
       "              'romance',\n",
       "              'romance']})"
      ]
     },
     "execution_count": 18,
     "metadata": {},
     "output_type": "execute_result"
    }
   ],
   "source": [
    "topic_to_category"
   ]
  },
  {
   "cell_type": "markdown",
   "id": "4d94d56f",
   "metadata": {},
   "source": [
    "Q: How does your five-topic LSA model compare to the original Brown categories? \n",
    "\n",
    "A:  Topic 0 is mix of editorial, government, news, and romance.\n",
    "Topic 1 is all romance.\n",
    "Topic 3 is all news.\n",
    "Topic 4 is all news.\n",
    "\n",
    "This didn't seem to match the brown categories as well -- Topics 1-4 don't have a lot of documents associated with them and Topic 0 is too broad."
   ]
  },
  {
   "cell_type": "code",
   "execution_count": 19,
   "id": "377a886e",
   "metadata": {},
   "outputs": [
    {
     "name": "stdout",
     "output_type": "stream",
     "text": [
      "\n",
      "Topic 00\n",
      "  said (0.44)\n",
      "  mr (0.25)\n",
      "  mrs (0.22)\n",
      "  state (0.20)\n",
      "  man (0.17)\n",
      "\n",
      "Topic 01\n",
      "  said (3.89)\n",
      "  ll (2.73)\n",
      "  didn (2.63)\n",
      "  thought (2.20)\n",
      "  got (1.97)\n",
      "\n",
      "Topic 02\n",
      "  mrs (3.12)\n",
      "  mr (1.70)\n",
      "  said (1.06)\n",
      "  kennedy (0.82)\n",
      "  khrushchev (0.77)\n",
      "\n",
      "Topic 03\n",
      "  mrs (29.45)\n",
      "  club (6.53)\n",
      "  game (6.12)\n",
      "  jr (5.60)\n",
      "  university (5.20)\n",
      "\n",
      "Topic 04\n",
      "  game (4.54)\n",
      "  league (3.27)\n",
      "  baseball (3.22)\n",
      "  ball (3.10)\n",
      "  team (2.94)\n"
     ]
    }
   ],
   "source": [
    "# call display_topics on your model\n",
    "\n",
    "display_topics(svd_para_model, tfidf_text_vectorizer.get_feature_names_out())"
   ]
  },
  {
   "cell_type": "markdown",
   "id": "ea8b280a",
   "metadata": {},
   "source": [
    "Q: What is your interpretation of the display topics output? \n",
    "\n",
    "A: Lots of stop words should be removed, like said, mr, mrs. I think they are throwing off the analysis and broadening the topics to the point of being unimportant/unenlightening. Generally topic importance is also low. The only topic that seems worthwhile is topic 4 which is about sports, clearly."
   ]
  },
  {
   "cell_type": "markdown",
   "id": "b4ab4d29",
   "metadata": {},
   "source": [
    "## Fitting an LDA Model\n",
    "\n",
    "Finally, fit a five-topic LDA model using the count vectors (`count_text_vectors` from above). Display the results using `pyLDAvis.display` and describe what you learn from that visualization. "
   ]
  },
  {
   "cell_type": "code",
   "execution_count": 20,
   "id": "802cb8ff",
   "metadata": {},
   "outputs": [],
   "source": [
    "# Fit your LDA model here\n",
    "\n",
    "lda_text_model = LatentDirichletAllocation(n_components = 5, random_state=314)\n",
    "W_text_matrix = lda_text_model.fit_transform(count_text_vectors)\n",
    "H_text_matrix = lda_text_model.components_"
   ]
  },
  {
   "cell_type": "code",
   "execution_count": 21,
   "id": "ab18adf5",
   "metadata": {},
   "outputs": [
    {
     "name": "stdout",
     "output_type": "stream",
     "text": [
      "\n",
      "Topic 00\n",
      "  said (1.05)\n",
      "  mrs (0.82)\n",
      "  little (0.56)\n",
      "  good (0.51)\n",
      "  way (0.50)\n",
      "\n",
      "Topic 01\n",
      "  state (0.67)\n",
      "  development (0.63)\n",
      "  000 (0.57)\n",
      "  program (0.48)\n",
      "  business (0.44)\n",
      "\n",
      "Topic 02\n",
      "  said (1.18)\n",
      "  mr (0.72)\n",
      "  president (0.51)\n",
      "  city (0.43)\n",
      "  state (0.37)\n",
      "\n",
      "Topic 03\n",
      "  feed (0.55)\n",
      "  college (0.54)\n",
      "  general (0.44)\n",
      "  university (0.43)\n",
      "  work (0.37)\n",
      "\n",
      "Topic 04\n",
      "  states (1.14)\n",
      "  state (1.02)\n",
      "  united (0.84)\n",
      "  shall (0.66)\n",
      "  government (0.61)\n"
     ]
    }
   ],
   "source": [
    "# Call `display_topics` on your fitted model here\n",
    "\n",
    "display_topics(lda_text_model, tfidf_text_vectorizer.get_feature_names_out())"
   ]
  },
  {
   "cell_type": "code",
   "execution_count": 22,
   "id": "433ceb9e",
   "metadata": {},
   "outputs": [],
   "source": [
    "topic_to_category = defaultdict(list)\n",
    "for idx, row in enumerate(W_text_matrix) : \n",
    "    topic = np.where(row == np.amax(row))[0]\n",
    "    category = df[\"category\"].iloc[idx]\n",
    "    \n",
    "    topic_to_category[topic[0]].append(category)"
   ]
  },
  {
   "cell_type": "code",
   "execution_count": 23,
   "id": "667c5171",
   "metadata": {},
   "outputs": [
    {
     "data": {
      "text/plain": [
       "defaultdict(list,\n",
       "            {2: ['editorial',\n",
       "              'editorial',\n",
       "              'editorial',\n",
       "              'editorial',\n",
       "              'editorial',\n",
       "              'editorial',\n",
       "              'editorial',\n",
       "              'editorial',\n",
       "              'editorial',\n",
       "              'editorial',\n",
       "              'editorial',\n",
       "              'editorial',\n",
       "              'editorial',\n",
       "              'editorial',\n",
       "              'editorial',\n",
       "              'editorial',\n",
       "              'editorial',\n",
       "              'editorial',\n",
       "              'editorial',\n",
       "              'editorial',\n",
       "              'editorial',\n",
       "              'government',\n",
       "              'government',\n",
       "              'government',\n",
       "              'news',\n",
       "              'news',\n",
       "              'news',\n",
       "              'news',\n",
       "              'news',\n",
       "              'news',\n",
       "              'news',\n",
       "              'news',\n",
       "              'news',\n",
       "              'news',\n",
       "              'news',\n",
       "              'news',\n",
       "              'news',\n",
       "              'news',\n",
       "              'news',\n",
       "              'news',\n",
       "              'news',\n",
       "              'news',\n",
       "              'news',\n",
       "              'news',\n",
       "              'news',\n",
       "              'news',\n",
       "              'news',\n",
       "              'news',\n",
       "              'news',\n",
       "              'news',\n",
       "              'news',\n",
       "              'news',\n",
       "              'news',\n",
       "              'news',\n",
       "              'news',\n",
       "              'news',\n",
       "              'romance',\n",
       "              'hobbies',\n",
       "              'hobbies'],\n",
       "             0: ['editorial',\n",
       "              'editorial',\n",
       "              'editorial',\n",
       "              'government',\n",
       "              'news',\n",
       "              'news',\n",
       "              'news',\n",
       "              'news',\n",
       "              'romance',\n",
       "              'romance',\n",
       "              'romance',\n",
       "              'romance',\n",
       "              'romance',\n",
       "              'romance',\n",
       "              'romance',\n",
       "              'romance',\n",
       "              'romance',\n",
       "              'romance',\n",
       "              'romance',\n",
       "              'romance',\n",
       "              'romance',\n",
       "              'romance',\n",
       "              'romance',\n",
       "              'romance',\n",
       "              'romance',\n",
       "              'romance',\n",
       "              'romance',\n",
       "              'romance',\n",
       "              'romance',\n",
       "              'romance',\n",
       "              'romance',\n",
       "              'romance',\n",
       "              'romance',\n",
       "              'romance',\n",
       "              'romance',\n",
       "              'romance',\n",
       "              'hobbies',\n",
       "              'hobbies',\n",
       "              'hobbies',\n",
       "              'hobbies',\n",
       "              'hobbies',\n",
       "              'hobbies',\n",
       "              'hobbies',\n",
       "              'hobbies',\n",
       "              'hobbies',\n",
       "              'hobbies',\n",
       "              'hobbies'],\n",
       "             3: ['editorial',\n",
       "              'editorial',\n",
       "              'government',\n",
       "              'government',\n",
       "              'government',\n",
       "              'government',\n",
       "              'news',\n",
       "              'news',\n",
       "              'news',\n",
       "              'hobbies',\n",
       "              'hobbies',\n",
       "              'hobbies',\n",
       "              'hobbies',\n",
       "              'hobbies',\n",
       "              'hobbies',\n",
       "              'hobbies',\n",
       "              'hobbies'],\n",
       "             1: ['editorial',\n",
       "              'government',\n",
       "              'government',\n",
       "              'government',\n",
       "              'government',\n",
       "              'government',\n",
       "              'government',\n",
       "              'government',\n",
       "              'government',\n",
       "              'government',\n",
       "              'government',\n",
       "              'government',\n",
       "              'government',\n",
       "              'news',\n",
       "              'news',\n",
       "              'news',\n",
       "              'hobbies',\n",
       "              'hobbies',\n",
       "              'hobbies',\n",
       "              'hobbies',\n",
       "              'hobbies',\n",
       "              'hobbies',\n",
       "              'hobbies',\n",
       "              'hobbies',\n",
       "              'hobbies'],\n",
       "             4: ['government',\n",
       "              'government',\n",
       "              'government',\n",
       "              'government',\n",
       "              'government',\n",
       "              'government',\n",
       "              'government',\n",
       "              'government',\n",
       "              'government',\n",
       "              'government',\n",
       "              'news',\n",
       "              'news',\n",
       "              'hobbies',\n",
       "              'hobbies',\n",
       "              'hobbies',\n",
       "              'hobbies',\n",
       "              'hobbies',\n",
       "              'hobbies']})"
      ]
     },
     "execution_count": 23,
     "metadata": {},
     "output_type": "execute_result"
    }
   ],
   "source": [
    "topic_to_category"
   ]
  },
  {
   "cell_type": "markdown",
   "id": "f2c67876",
   "metadata": {},
   "source": [
    "Q: What inference do you draw from the displayed topics for your LDA model? \n",
    "\n",
    "A: Lots of stop words should be removed, like said, mr, mrs. I think they are throwing off the analysis and broadening the topics to the point of being unimportant/unenlightening. Generally topic importance is also low. Topics 1, 2, and 4 seem newsish/political and topic 3 seems to be about school/work.\n",
    "\n",
    "Q: Repeat the tallying of Brown categories within your topics. How does your five-topic LDA model compare to the original Brown categories? \n",
    "\n",
    "A: Topic 0 is mix of editorial, government, news, and romance.\n",
    "Topic 1 is all romance.\n",
    "Topic 2 is all \n",
    "Topic 3 is all news.\n",
    "Topic 4 is all news."
   ]
  },
  {
   "cell_type": "code",
   "execution_count": 24,
   "id": "6aae75ca",
   "metadata": {},
   "outputs": [
    {
     "name": "stderr",
     "output_type": "stream",
     "text": [
      "/Users/halledavis/opt/anaconda3/lib/python3.9/site-packages/numexpr/expressions.py:21: DeprecationWarning: distutils Version classes are deprecated. Use packaging.version instead.\n",
      "  _np_version_forbids_neg_powint = LooseVersion(numpy.__version__) >= LooseVersion('1.12.0b1')\n",
      "/Users/halledavis/opt/anaconda3/lib/python3.9/site-packages/numexpr/expressions.py:21: DeprecationWarning: distutils Version classes are deprecated. Use packaging.version instead.\n",
      "  _np_version_forbids_neg_powint = LooseVersion(numpy.__version__) >= LooseVersion('1.12.0b1')\n",
      "/Users/halledavis/opt/anaconda3/lib/python3.9/site-packages/numexpr/expressions.py:21: DeprecationWarning: distutils Version classes are deprecated. Use packaging.version instead.\n",
      "  _np_version_forbids_neg_powint = LooseVersion(numpy.__version__) >= LooseVersion('1.12.0b1')\n",
      "/Users/halledavis/opt/anaconda3/lib/python3.9/site-packages/numexpr/expressions.py:21: DeprecationWarning: distutils Version classes are deprecated. Use packaging.version instead.\n",
      "  _np_version_forbids_neg_powint = LooseVersion(numpy.__version__) >= LooseVersion('1.12.0b1')\n",
      "/Users/halledavis/opt/anaconda3/lib/python3.9/site-packages/numexpr/expressions.py:21: DeprecationWarning: distutils Version classes are deprecated. Use packaging.version instead.\n",
      "  _np_version_forbids_neg_powint = LooseVersion(numpy.__version__) >= LooseVersion('1.12.0b1')\n",
      "/Users/halledavis/opt/anaconda3/lib/python3.9/site-packages/numexpr/expressions.py:21: DeprecationWarning: distutils Version classes are deprecated. Use packaging.version instead.\n",
      "  _np_version_forbids_neg_powint = LooseVersion(numpy.__version__) >= LooseVersion('1.12.0b1')\n",
      "/Users/halledavis/opt/anaconda3/lib/python3.9/site-packages/numexpr/expressions.py:21: DeprecationWarning: distutils Version classes are deprecated. Use packaging.version instead.\n",
      "  _np_version_forbids_neg_powint = LooseVersion(numpy.__version__) >= LooseVersion('1.12.0b1')\n",
      "/Users/halledavis/opt/anaconda3/lib/python3.9/site-packages/numexpr/expressions.py:21: DeprecationWarning: distutils Version classes are deprecated. Use packaging.version instead.\n",
      "  _np_version_forbids_neg_powint = LooseVersion(numpy.__version__) >= LooseVersion('1.12.0b1')\n",
      "/Users/halledavis/opt/anaconda3/lib/python3.9/site-packages/numexpr/expressions.py:21: DeprecationWarning: distutils Version classes are deprecated. Use packaging.version instead.\n",
      "  _np_version_forbids_neg_powint = LooseVersion(numpy.__version__) >= LooseVersion('1.12.0b1')\n",
      "/Users/halledavis/opt/anaconda3/lib/python3.9/site-packages/numexpr/expressions.py:21: DeprecationWarning: distutils Version classes are deprecated. Use packaging.version instead.\n",
      "  _np_version_forbids_neg_powint = LooseVersion(numpy.__version__) >= LooseVersion('1.12.0b1')\n",
      "/Users/halledavis/opt/anaconda3/lib/python3.9/site-packages/numexpr/expressions.py:21: DeprecationWarning: distutils Version classes are deprecated. Use packaging.version instead.\n",
      "  _np_version_forbids_neg_powint = LooseVersion(numpy.__version__) >= LooseVersion('1.12.0b1')\n",
      "/Users/halledavis/opt/anaconda3/lib/python3.9/site-packages/numexpr/expressions.py:21: DeprecationWarning: distutils Version classes are deprecated. Use packaging.version instead.\n",
      "  _np_version_forbids_neg_powint = LooseVersion(numpy.__version__) >= LooseVersion('1.12.0b1')\n",
      "/Users/halledavis/opt/anaconda3/lib/python3.9/site-packages/numexpr/expressions.py:21: DeprecationWarning: distutils Version classes are deprecated. Use packaging.version instead.\n",
      "  _np_version_forbids_neg_powint = LooseVersion(numpy.__version__) >= LooseVersion('1.12.0b1')\n",
      "/Users/halledavis/opt/anaconda3/lib/python3.9/site-packages/numexpr/expressions.py:21: DeprecationWarning: distutils Version classes are deprecated. Use packaging.version instead.\n",
      "  _np_version_forbids_neg_powint = LooseVersion(numpy.__version__) >= LooseVersion('1.12.0b1')\n",
      "/Users/halledavis/opt/anaconda3/lib/python3.9/site-packages/numexpr/expressions.py:21: DeprecationWarning: distutils Version classes are deprecated. Use packaging.version instead.\n",
      "  _np_version_forbids_neg_powint = LooseVersion(numpy.__version__) >= LooseVersion('1.12.0b1')\n",
      "/Users/halledavis/opt/anaconda3/lib/python3.9/site-packages/numexpr/expressions.py:21: DeprecationWarning: distutils Version classes are deprecated. Use packaging.version instead.\n",
      "  _np_version_forbids_neg_powint = LooseVersion(numpy.__version__) >= LooseVersion('1.12.0b1')\n"
     ]
    }
   ],
   "source": [
    "lda_display = pyLDAvis.lda_model.prepare(\n",
    "    lda_text_model,\n",
    "    count_text_vectors, count_text_vectorizer, sort_topics=False)"
   ]
  },
  {
   "cell_type": "code",
   "execution_count": 25,
   "id": "2a89fc15",
   "metadata": {},
   "outputs": [
    {
     "data": {
      "text/html": [
       "\n",
       "<link rel=\"stylesheet\" type=\"text/css\" href=\"https://cdn.jsdelivr.net/gh/bmabey/pyLDAvis@3.4.0/pyLDAvis/js/ldavis.v1.0.0.css\">\n",
       "\n",
       "\n",
       "<div id=\"ldavis_el17921404619587462885328646555\" style=\"background-color:white;\"></div>\n",
       "<script type=\"text/javascript\">\n",
       "\n",
       "var ldavis_el17921404619587462885328646555_data = {\"mdsDat\": {\"x\": [-0.24352303362204109, 0.1305571939552597, -0.056656675473926874, 0.041427484839751436, 0.1281950303009571], \"y\": [0.006829720679473575, -0.055884744701645506, 0.03852366287446593, -0.11285215230955918, 0.12338351345726514], \"topics\": [1, 2, 3, 4, 5], \"cluster\": [1, 1, 1, 1, 1], \"Freq\": [22.89695729653444, 20.43196854284185, 32.006264072526875, 12.368825612931992, 12.295984475164834]}, \"tinfo\": {\"Term\": [\"states\", \"state\", \"said\", \"mrs\", \"united\", \"shall\", \"development\", \"tax\", \"feed\", \"fiscal\", \"college\", \"government\", \"ll\", \"don\", \"000\", \"university\", \"department\", \"didn\", \"sales\", \"president\", \"rhode\", \"got\", \"equipment\", \"little\", \"mother\", \"class\", \"act\", \"program\", \"system\", \"property\", \"hair\", \"baby\", \"clothes\", \"walls\", \"anne\", \"fig\", \"pale\", \"pink\", \"dry\", \"yellow\", \"entrance\", \"hadn\", \"ham\", \"couldn\", \"frames\", \"fingers\", \"flowers\", \"windows\", \"bride\", \"hell\", \"handsome\", \"coat\", \"cloth\", \"sweet\", \"stared\", \"liked\", \"colored\", \"studio\", \"bed\", \"trees\", \"shelter\", \"mother\", \"looked\", \"clay\", \"wasn\", \"guests\", \"didn\", \"woman\", \"sat\", \"pieces\", \"colors\", \"eyes\", \"drill\", \"mrs\", \"ll\", \"don\", \"thought\", \"room\", \"sun\", \"inch\", \"ve\", \"black\", \"little\", \"knew\", \"went\", \"sure\", \"got\", \"door\", \"look\", \"son\", \"know\", \"said\", \"way\", \"come\", \"came\", \"good\", \"place\", \"away\", \"old\", \"water\", \"right\", \"man\", \"let\", \"life\", \"left\", \"house\", \"day\", \"home\", \"systems\", \"marketing\", \"electronic\", \"boats\", \"missiles\", \"components\", \"aircraft\", \"machine\", \"rhode\", \"assessment\", \"shipments\", \"laboratory\", \"bankers\", \"savings\", \"yield\", \"industrial\", \"forests\", \"compared\", \"machines\", \"procurement\", \"missile\", \"conservation\", \"utility\", \"inventories\", \"polaris\", \"manufacturing\", \"machinery\", \"investment\", \"recreation\", \"banks\", \"property\", \"industry\", \"equipment\", \"sales\", \"radiation\", \"planning\", \"development\", \"medical\", \"providence\", \"billion\", \"system\", \"shares\", \"manufacturers\", \"island\", \"1960\", \"production\", \"1959\", \"products\", \"research\", \"co\", \"range\", \"000\", \"program\", \"business\", \"cost\", \"million\", \"available\", \"state\", \"small\", \"company\", \"national\", \"1961\", \"provide\", \"areas\", \"service\", \"use\", \"military\", \"tax\", \"public\", \"khrushchev\", \"player\", \"rayburn\", \"congo\", \"republican\", \"moscow\", \"southern\", \"baseball\", \"railroad\", \"castro\", \"troops\", \"yards\", \"charter\", \"yankees\", \"premier\", \"alexander\", \"democrats\", \"captain\", \"chinese\", \"coach\", \"laos\", \"gen\", \"cuban\", \"opposition\", \"soviet\", \"katanga\", \"republicans\", \"pope\", \"bombs\", \"robinson\", \"berlin\", \"speaker\", \"communist\", \"democratic\", \"eisenhower\", \"league\", \"mayor\", \"cuba\", \"st\", \"police\", \"yesterday\", \"china\", \"west\", \"monday\", \"race\", \"john\", \"east\", \"kennedy\", \"city\", \"mr\", \"meeting\", \"party\", \"president\", \"said\", \"week\", \"war\", \"political\", \"nations\", \"game\", \"committee\", \"leaders\", \"american\", \"world\", \"york\", \"home\", \"county\", \"man\", \"united\", \"people\", \"house\", \"state\", \"day\", \"old\", \"000\", \"government\", \"men\", \"national\", \"states\", \"school\", \"academic\", \"faculty\", \"trustees\", \"campus\", \"recognition\", \"classical\", \"professors\", \"mathematics\", \"musical\", \"tends\", \"feed\", \"stockholders\", \"fulfill\", \"meat\", \"unions\", \"chemical\", \"motors\", \"prosperity\", \"cattle\", \"prestige\", \"designer\", \"curriculum\", \"clerical\", \"catholic\", \"collective\", \"recorded\", \"appearances\", \"creative\", \"membership\", \"trust\", \"music\", \"chamber\", \"students\", \"student\", \"colleges\", \"teachers\", \"college\", \"engineer\", \"interior\", \"university\", \"daily\", \"pool\", \"schools\", \"education\", \"art\", \"general\", \"anti\", \"members\", \"technical\", \"labor\", \"design\", \"administration\", \"level\", \"work\", \"school\", \"president\", \"problem\", \"board\", \"department\", \"american\", \"good\", \"men\", \"aid\", \"world\", \"high\", \"cousin\", \"rehabilitation\", \"coal\", \"vocational\", \"definition\", \"denied\", \"thereof\", \"bonds\", \"payment\", \"rico\", \"puerto\", \"coordination\", \"filing\", \"adopting\", \"recommendation\", \"calendar\", \"hated\", \"proceedings\", \"commodities\", \"sectors\", \"connections\", \"62\", \"vehicles\", \"allocation\", \"treasury\", \"tractor\", \"adjustments\", \"upstairs\", \"shall\", \"assigned\", \"india\", \"exercise\", \"interference\", \"payments\", \"fiscal\", \"authorized\", \"claim\", \"stations\", \"insurance\", \"claims\", \"class\", \"states\", \"income\", \"return\", \"tax\", \"united\", \"junior\", \"hearing\", \"act\", \"countries\", \"cars\", \"state\", \"agreement\", \"department\", \"government\", \"secretary\", \"officer\", \"section\", \"title\", \"federal\", \"use\", \"service\", \"30\", \"board\", \"services\", \"pay\", \"local\", \"day\"], \"Freq\": [328.0, 485.0, 803.0, 307.0, 298.0, 123.0, 199.0, 172.0, 93.0, 107.0, 120.0, 273.0, 167.0, 178.0, 282.0, 122.0, 153.0, 124.0, 117.0, 297.0, 86.0, 147.0, 105.0, 237.0, 97.0, 97.0, 127.0, 230.0, 142.0, 95.0, 35.2660316976795, 35.259854572870836, 32.34282391715048, 32.33880808918395, 34.234073004331, 31.32761923162945, 26.49851762545449, 25.52477104102502, 23.573236778164116, 25.427138253320564, 21.61942811514906, 30.993044678951435, 19.675700186736574, 51.439817072385054, 20.589733305570036, 17.72631275209298, 23.305040810822835, 16.7519733109185, 17.677966184967968, 15.781789493525485, 15.780666162782097, 15.765038139000252, 14.807347406646533, 14.806857679256783, 14.806525243898381, 14.805562659021431, 15.72134167497506, 14.793031300690535, 34.1487484942612, 27.74245501030447, 57.20416985925253, 90.05985801714498, 78.93387784968819, 75.71076669182484, 53.90723878296295, 29.982839371430035, 108.7307394199304, 50.25085074519481, 34.934191866446334, 48.297523762670515, 27.14174620759294, 83.99183249657614, 31.328311483268113, 234.33243224195485, 134.73682388828408, 142.2253206365194, 113.48998687104904, 84.70739288661414, 47.85107317359334, 58.2816436065154, 69.82209572678214, 54.447334924203, 159.93873456068204, 71.32903793545283, 100.47914727932265, 70.80739412891494, 101.5476355074318, 56.564345442016005, 89.14937958191938, 57.94278765631471, 112.80221967394863, 300.19157995269916, 143.08214720581609, 108.6678552840918, 97.9319284628815, 146.7201649075107, 107.63695959300954, 81.83857826579644, 125.33252753577919, 93.65427756652987, 105.80662989454581, 122.43392673750648, 76.37882747857928, 81.85609009063336, 81.2583389474525, 87.71132897871959, 85.95109916972143, 84.11085690371236, 37.62033917696876, 41.26043043714815, 26.108504126894072, 38.01490066718641, 22.2409959779404, 21.22351437468651, 54.24848359225265, 50.39470006191906, 82.33814930496463, 17.226327234067043, 13.599502717078892, 16.29088859098535, 10.740632157231772, 17.00538725255213, 15.133342494227271, 72.03843499106007, 14.938223060272133, 24.574363297207977, 28.908173871233387, 17.448867762039548, 36.58474259793832, 7.854789008100236, 11.322258118599853, 6.910963131905754, 6.906977941612567, 18.16721140781804, 30.179415379306562, 24.918058009903834, 32.623931200863545, 16.267831354180643, 85.04409531611383, 85.23076408361717, 92.04061867537705, 102.2103074033812, 31.419941862258, 72.29354736159641, 160.58456695669383, 84.12221117794074, 39.2710130425278, 47.153525908302235, 110.99031567699511, 32.52656888050942, 35.56961213374266, 88.51387155669504, 93.2095888709794, 63.8497461282623, 50.271962739499706, 49.696057546593295, 72.63469421541114, 46.826210408830384, 53.984967876890686, 144.6286663472738, 123.50896845655386, 113.19861054790833, 73.61038906890656, 79.16133829903156, 74.66204969189849, 169.4652034229633, 100.42960965644949, 76.1285327070725, 92.20105914345241, 67.16061893470143, 66.50125650021185, 62.63129522802724, 86.66947068148038, 95.41631280398167, 65.25389352558307, 67.84173831149549, 65.61364145319438, 73.42554374783124, 48.67768498296595, 46.70642783836326, 43.733374934891884, 39.778178768084466, 37.800107478394324, 34.82722841019424, 39.61877024477505, 32.841809048472676, 29.88139792837256, 26.912817657012965, 26.899591011392975, 27.860295497571606, 25.92561583302562, 24.935202646112852, 24.92786072259933, 23.946196773271833, 23.938724665538537, 22.94971042948157, 22.940661109611238, 49.61478194372412, 21.955319680146978, 20.974708622899158, 20.95696065584776, 78.92743956978484, 19.982341472209374, 19.972841684788577, 19.96743951892555, 18.996535964167766, 18.994551077568087, 63.2242597264592, 40.66068656369516, 70.96278176057119, 59.004657601841295, 38.646633209979264, 57.991204762007015, 43.217711501538915, 36.74625566194079, 71.475304674327, 44.379150265041474, 58.02965358273167, 32.828237255154924, 96.0841853883144, 58.46515417030855, 40.505659296093064, 142.98368478351827, 83.85420121427471, 111.14875577393481, 172.6235320002642, 287.8781423603014, 84.13213702614438, 92.01772270153543, 205.4063487373484, 470.89022085822694, 140.7626514325604, 113.01139950261603, 71.05038233620012, 67.16518889885623, 73.87620209973915, 83.76171945290737, 50.00246714063657, 148.64615016805453, 138.1358696255812, 96.83009236355026, 140.0240462072754, 76.83350051553283, 129.58037547484827, 125.62152536157646, 118.36210204722835, 110.56501449328178, 148.84517946191207, 119.60071243642503, 108.76991140081212, 105.30536803757643, 99.52164947706409, 90.46561781119074, 91.57849254494343, 96.15786407278691, 83.84436994950836, 27.814826569302777, 48.93684709004372, 18.50350998538597, 14.879468477087567, 15.473941152164215, 9.373352607053869, 8.429864173735863, 7.546272419664456, 18.41492046315913, 7.518959799427076, 84.44155436104478, 18.268486568333202, 6.622128289059265, 19.5417138246623, 18.587130254335793, 23.146111999202645, 38.25197181315948, 4.7732886786824755, 17.381566736920444, 10.238816773832234, 14.802706325018887, 7.0116767416615176, 4.663272913791549, 25.47959588243604, 10.014582060857434, 7.582398158918702, 4.540015041328658, 12.853649254073645, 19.425628383036642, 29.706978723475025, 46.82501087835088, 21.450400541392447, 52.994368401959285, 54.95528137360922, 16.311008295186223, 25.62073069822358, 83.62014229714008, 24.94167590234579, 28.633459492336442, 67.01241734256274, 33.33126174189981, 43.62737654411697, 49.32037920830857, 46.418285704159196, 34.856196031964835, 67.66899625922038, 32.10381351159175, 51.62302814445594, 31.177936996002853, 33.89549304217462, 35.040820639017596, 44.49327955892578, 35.228834426741436, 56.48861252778269, 47.16711951156481, 55.68778966133552, 39.64150536052201, 42.71566054538687, 38.01482404768309, 43.01510978367217, 42.90256178570248, 38.2571544091789, 34.06878160168561, 37.628796504513865, 34.846070732697086, 24.895381739117973, 17.60871047105595, 22.61715272069349, 12.98835471768091, 12.081651178952189, 17.2557612580593, 11.043916669732527, 28.50439130794213, 36.751871727233556, 17.29261904159074, 17.289973715259777, 6.586201822372039, 15.531276371536116, 5.669749860722198, 16.069958421934782, 20.1257367823582, 5.626627615289122, 6.416436823858561, 14.343171489794257, 4.7615347567452435, 5.547238482984914, 5.532508833757223, 35.56950814402408, 10.223530392476135, 22.86656696765851, 19.499373411737242, 10.91357282723518, 5.430408333634612, 101.1673393785032, 9.141628146127138, 29.604377811542992, 21.945570724591942, 28.49445862632923, 31.90274794139709, 82.24350507900921, 23.61999226739107, 32.82368814475601, 43.57399739685017, 25.75731022225973, 22.213358197218568, 63.52515544416812, 175.30239292056655, 50.03986268624469, 41.16101243435989, 86.65875331991681, 128.39237926387386, 39.91034171743847, 33.815786827704784, 65.0107752835122, 47.420605346201796, 40.209279592813246, 156.2942625971684, 38.83917469224583, 66.04762002987088, 93.4961855647457, 54.83909075025157, 32.98378789632131, 41.664568001741706, 29.989970407909517, 43.2330513755682, 57.377520893861956, 52.70114914664651, 42.224181185310194, 42.52715360132973, 36.82910800278607, 37.096810629375796, 36.74442128741938, 37.17615767602709], \"Total\": [328.0, 485.0, 803.0, 307.0, 298.0, 123.0, 199.0, 172.0, 93.0, 107.0, 120.0, 273.0, 167.0, 178.0, 282.0, 122.0, 153.0, 124.0, 117.0, 297.0, 86.0, 147.0, 105.0, 237.0, 97.0, 97.0, 127.0, 230.0, 142.0, 95.0, 36.02603912499985, 36.02588883819034, 33.10322172299764, 33.103199451516204, 35.0505625594861, 32.12853787483271, 27.257595896582217, 26.283381057698207, 24.334723323645925, 26.28457560730936, 22.38617131270356, 32.13491772930471, 20.437642353730425, 53.485417657861355, 21.41300921211937, 18.488977697815795, 24.319878358135636, 17.51484102850205, 18.48997788651864, 16.54070720566731, 16.540683839194845, 16.540152118252482, 15.566432075823172, 15.566368553159574, 15.566439385894089, 15.56640853615906, 16.541123102771508, 15.566128130021555, 35.961890577969235, 29.216873363902355, 60.42030248595256, 97.50813665440421, 85.71452146351676, 82.7655748288131, 58.48806964583604, 32.1504364344932, 124.77305109139071, 55.495934070275915, 37.89639184076528, 53.44875378566885, 29.186855354435657, 98.42108266493294, 34.108659255171254, 307.9971583578141, 167.834227125137, 178.18542278378123, 139.8217103611608, 103.42674442190594, 54.56223811623199, 68.76954856434931, 84.83647160041039, 64.26201397041541, 237.75277971425632, 90.51973633420367, 137.70593095628732, 91.77444009129965, 147.79376856176168, 70.06214294099411, 129.86657516906666, 73.99592681862174, 191.48072080434144, 803.8548070648295, 274.85427260577245, 186.0737233498349, 163.15899799670467, 306.43403590768935, 190.1554441273065, 123.89985251249686, 254.84946828941256, 162.7169852126024, 213.5733828440322, 283.0153604519203, 121.95636925526732, 161.53017716157902, 163.20991301290178, 234.12184367687414, 302.3464743334504, 268.5137641979603, 38.38900181276881, 42.21975114655714, 26.870239511488467, 39.32530511253745, 23.03135590818633, 22.069023878838735, 56.676640666140905, 52.83541185825129, 86.46800449904781, 18.22147763216327, 14.390064081926608, 17.262361508112317, 11.511442662430953, 18.23745719845575, 16.29290344655113, 78.46760127905365, 16.284197226960195, 26.80226895725757, 31.645263380810636, 19.14727441136656, 40.18955772227328, 8.631750433563733, 12.458169098970636, 7.6718366477172015, 7.671950307157872, 20.188446423100253, 33.582287155475136, 27.758165731678776, 36.4464844927757, 18.179838892874383, 95.59958109020079, 96.93212392160395, 105.65758026062846, 117.78573708942224, 35.5594434894225, 85.01192732215914, 199.00113683933088, 101.02292341395622, 45.143814883594324, 54.90118963074973, 142.66262791524005, 37.27576952579075, 41.990975863697194, 120.3327704568788, 129.7781845158141, 84.8325637860814, 63.727084038071965, 62.84418723668013, 102.9887673920246, 59.70895018137991, 72.90815716855994, 282.94427412443605, 230.3215726978669, 209.32374748162172, 115.94033775080972, 128.99304695412943, 119.71572579817428, 485.52547392811994, 211.37539248235055, 138.5374085496047, 215.73422314818578, 114.91801537520544, 112.93575546782291, 99.90679935398612, 203.57909034218522, 253.44869724604672, 123.3053988685712, 172.80964183116572, 200.80538207395293, 74.18132611605127, 49.44169052826693, 47.46260119923944, 44.49359036010496, 40.535513996171375, 38.556389850764766, 35.58752782843548, 40.524089011304056, 33.607869995103435, 30.63965223281023, 27.67089434123132, 27.67080987821845, 28.659135933770308, 26.681481371686957, 25.691806203590637, 25.691678325478687, 24.702282074756564, 24.702154272987798, 23.71248703300205, 23.711939322752958, 51.3443612916691, 22.722416271833243, 21.73341108202848, 21.732251919217532, 81.93116365784137, 20.743599793201973, 20.74291137765739, 20.743329613458656, 19.754257834892865, 19.754312772549586, 66.10674015267463, 42.436983762163024, 74.99667222533029, 62.130383241294645, 40.45277924173404, 61.20732427285945, 45.37927277280928, 38.4795855221263, 78.03996648950978, 47.297256235347334, 63.027230870364654, 34.52865293710649, 108.34119862739155, 64.00922906655559, 43.3407031416964, 171.40817645781524, 96.50766365165028, 132.0418807915384, 217.90548917781646, 392.85663935368353, 99.38191347480661, 110.41190710132186, 297.0893859119429, 803.8548070648295, 190.95279899715115, 148.12895827305638, 84.33186741272115, 80.65436811910888, 91.54281280787272, 111.05863796939238, 55.26520309710711, 262.8761488078902, 256.0899824588552, 148.4697207814733, 268.5137641979603, 105.84498183835268, 283.0153604519203, 298.7240339741694, 265.61772341053467, 234.12184367687414, 485.52547392811994, 302.3464743334504, 254.84946828941256, 282.94427412443605, 273.1049196397214, 193.49518722056052, 215.73422314818578, 328.08766300343297, 171.68266645156055, 28.587671191002887, 50.75235104005466, 19.380805810593998, 15.693304333758894, 16.633414863075217, 10.165631588135192, 9.24571212382063, 8.322226888959054, 20.348539793129635, 8.322341294361461, 93.52912134200902, 20.350673528278282, 7.401195317063838, 22.202972880525138, 21.263556998272584, 26.864176614307773, 44.466850734734656, 5.559156794388775, 20.429848324794325, 12.080566726948906, 17.61616608544221, 8.344571664079323, 5.563614525856895, 30.74006234011112, 12.097121988775971, 9.309062259927515, 5.57581096537124, 15.790102910241023, 24.23635962717947, 37.14065807513557, 59.642613248128484, 27.081082977874363, 68.97438698866306, 71.68275492289163, 20.467141713564452, 33.34760135025248, 120.99975166695648, 32.58028930812075, 39.89608051957488, 122.31078776847798, 52.49852760150619, 75.23212830270083, 89.45812584148689, 84.56146294600379, 57.493258352735744, 198.00621277778876, 57.7972064020334, 140.21994582812474, 57.24356765830152, 68.34216300022534, 74.72871037779427, 131.40907157119443, 82.98496450235835, 256.97786239275575, 171.68266645156055, 297.0893859119429, 117.36282478725462, 173.02514764709483, 153.03062002567162, 262.8761488078902, 306.43403590768935, 193.49518722056052, 99.6473969184224, 256.0899824588552, 217.96093203160197, 25.719900356958156, 18.379206160058807, 23.88499509622222, 13.795801363596595, 12.877393873437706, 18.395872134442172, 11.965555537317126, 31.301788527830116, 40.5255534494482, 19.305747619464793, 19.305381735642, 7.3736650185943535, 17.51611079447866, 6.456504867903872, 18.386543136832, 23.075914689335153, 6.459370956327418, 7.374057915469404, 16.593451639249764, 5.538818995171577, 6.462219526241364, 6.457204216744051, 41.58244844081581, 11.96305297031634, 26.87025406073883, 23.09135146214562, 12.93156093520787, 6.471692815484686, 123.04949327572996, 11.129093826135746, 36.08726596770423, 26.774612595552842, 35.19197255344375, 39.79154818535332, 107.51555928474964, 29.573704296915594, 42.54665994150673, 57.808559354593996, 33.291642037189234, 28.658975142612622, 97.16968285832581, 328.08766300343297, 79.94285226747934, 64.56516799991914, 172.80964183116572, 298.7240339741694, 62.79076549191276, 50.551680739664945, 127.86759220361678, 82.8743517684048, 65.84647973719714, 485.52547392811994, 64.87874739797844, 153.03062002567162, 273.1049196397214, 119.8429606479665, 52.256274530525, 81.49566812100724, 44.58064300425608, 112.63804601931182, 253.44869724604672, 203.57909034218522, 114.38793137157597, 173.02514764709483, 93.38657624530413, 103.89058589990498, 128.421143728321, 302.3464743334504], \"Category\": [\"Default\", \"Default\", \"Default\", \"Default\", \"Default\", \"Default\", \"Default\", \"Default\", \"Default\", \"Default\", \"Default\", \"Default\", \"Default\", \"Default\", \"Default\", \"Default\", \"Default\", \"Default\", \"Default\", \"Default\", \"Default\", \"Default\", \"Default\", \"Default\", \"Default\", \"Default\", \"Default\", \"Default\", \"Default\", \"Default\", \"Topic1\", \"Topic1\", \"Topic1\", \"Topic1\", \"Topic1\", \"Topic1\", \"Topic1\", \"Topic1\", \"Topic1\", \"Topic1\", \"Topic1\", \"Topic1\", \"Topic1\", \"Topic1\", \"Topic1\", \"Topic1\", \"Topic1\", \"Topic1\", \"Topic1\", \"Topic1\", \"Topic1\", \"Topic1\", \"Topic1\", \"Topic1\", \"Topic1\", \"Topic1\", \"Topic1\", \"Topic1\", \"Topic1\", \"Topic1\", \"Topic1\", \"Topic1\", \"Topic1\", \"Topic1\", \"Topic1\", \"Topic1\", \"Topic1\", \"Topic1\", \"Topic1\", \"Topic1\", \"Topic1\", \"Topic1\", \"Topic1\", \"Topic1\", \"Topic1\", \"Topic1\", \"Topic1\", \"Topic1\", \"Topic1\", \"Topic1\", \"Topic1\", \"Topic1\", \"Topic1\", \"Topic1\", \"Topic1\", \"Topic1\", \"Topic1\", \"Topic1\", \"Topic1\", \"Topic1\", \"Topic1\", \"Topic1\", \"Topic1\", \"Topic1\", \"Topic1\", \"Topic1\", \"Topic1\", \"Topic1\", \"Topic1\", \"Topic1\", \"Topic1\", \"Topic1\", \"Topic1\", \"Topic1\", \"Topic1\", \"Topic1\", \"Topic1\", \"Topic1\", \"Topic2\", \"Topic2\", \"Topic2\", \"Topic2\", \"Topic2\", \"Topic2\", \"Topic2\", \"Topic2\", \"Topic2\", \"Topic2\", \"Topic2\", \"Topic2\", \"Topic2\", \"Topic2\", \"Topic2\", \"Topic2\", \"Topic2\", \"Topic2\", \"Topic2\", \"Topic2\", \"Topic2\", \"Topic2\", \"Topic2\", \"Topic2\", \"Topic2\", \"Topic2\", \"Topic2\", \"Topic2\", \"Topic2\", \"Topic2\", \"Topic2\", \"Topic2\", \"Topic2\", \"Topic2\", \"Topic2\", \"Topic2\", \"Topic2\", \"Topic2\", \"Topic2\", \"Topic2\", \"Topic2\", \"Topic2\", \"Topic2\", \"Topic2\", \"Topic2\", \"Topic2\", \"Topic2\", \"Topic2\", \"Topic2\", \"Topic2\", \"Topic2\", \"Topic2\", \"Topic2\", \"Topic2\", \"Topic2\", \"Topic2\", \"Topic2\", \"Topic2\", \"Topic2\", \"Topic2\", \"Topic2\", \"Topic2\", \"Topic2\", \"Topic2\", \"Topic2\", \"Topic2\", \"Topic2\", \"Topic2\", \"Topic2\", \"Topic3\", \"Topic3\", \"Topic3\", \"Topic3\", \"Topic3\", \"Topic3\", \"Topic3\", \"Topic3\", \"Topic3\", \"Topic3\", \"Topic3\", \"Topic3\", \"Topic3\", \"Topic3\", \"Topic3\", \"Topic3\", \"Topic3\", \"Topic3\", \"Topic3\", \"Topic3\", \"Topic3\", \"Topic3\", \"Topic3\", \"Topic3\", \"Topic3\", \"Topic3\", \"Topic3\", \"Topic3\", \"Topic3\", \"Topic3\", \"Topic3\", \"Topic3\", \"Topic3\", \"Topic3\", \"Topic3\", \"Topic3\", \"Topic3\", \"Topic3\", \"Topic3\", \"Topic3\", \"Topic3\", \"Topic3\", \"Topic3\", \"Topic3\", \"Topic3\", \"Topic3\", \"Topic3\", \"Topic3\", \"Topic3\", \"Topic3\", \"Topic3\", \"Topic3\", \"Topic3\", \"Topic3\", \"Topic3\", \"Topic3\", \"Topic3\", \"Topic3\", \"Topic3\", \"Topic3\", \"Topic3\", \"Topic3\", \"Topic3\", \"Topic3\", \"Topic3\", \"Topic3\", \"Topic3\", \"Topic3\", \"Topic3\", \"Topic3\", \"Topic3\", \"Topic3\", \"Topic3\", \"Topic3\", \"Topic3\", \"Topic3\", \"Topic3\", \"Topic3\", \"Topic3\", \"Topic4\", \"Topic4\", \"Topic4\", \"Topic4\", \"Topic4\", \"Topic4\", \"Topic4\", \"Topic4\", \"Topic4\", \"Topic4\", \"Topic4\", \"Topic4\", \"Topic4\", \"Topic4\", \"Topic4\", \"Topic4\", \"Topic4\", \"Topic4\", \"Topic4\", \"Topic4\", \"Topic4\", \"Topic4\", \"Topic4\", \"Topic4\", \"Topic4\", \"Topic4\", \"Topic4\", \"Topic4\", \"Topic4\", \"Topic4\", \"Topic4\", \"Topic4\", \"Topic4\", \"Topic4\", \"Topic4\", \"Topic4\", \"Topic4\", \"Topic4\", \"Topic4\", \"Topic4\", \"Topic4\", \"Topic4\", \"Topic4\", \"Topic4\", \"Topic4\", \"Topic4\", \"Topic4\", \"Topic4\", \"Topic4\", \"Topic4\", \"Topic4\", \"Topic4\", \"Topic4\", \"Topic4\", \"Topic4\", \"Topic4\", \"Topic4\", \"Topic4\", \"Topic4\", \"Topic4\", \"Topic4\", \"Topic4\", \"Topic4\", \"Topic4\", \"Topic4\", \"Topic5\", \"Topic5\", \"Topic5\", \"Topic5\", \"Topic5\", \"Topic5\", \"Topic5\", \"Topic5\", \"Topic5\", \"Topic5\", \"Topic5\", \"Topic5\", \"Topic5\", \"Topic5\", \"Topic5\", \"Topic5\", \"Topic5\", \"Topic5\", \"Topic5\", \"Topic5\", \"Topic5\", \"Topic5\", \"Topic5\", \"Topic5\", \"Topic5\", \"Topic5\", \"Topic5\", \"Topic5\", \"Topic5\", \"Topic5\", \"Topic5\", \"Topic5\", \"Topic5\", \"Topic5\", \"Topic5\", \"Topic5\", \"Topic5\", \"Topic5\", \"Topic5\", \"Topic5\", \"Topic5\", \"Topic5\", \"Topic5\", \"Topic5\", \"Topic5\", \"Topic5\", \"Topic5\", \"Topic5\", \"Topic5\", \"Topic5\", \"Topic5\", \"Topic5\", \"Topic5\", \"Topic5\", \"Topic5\", \"Topic5\", \"Topic5\", \"Topic5\", \"Topic5\", \"Topic5\", \"Topic5\", \"Topic5\", \"Topic5\", \"Topic5\", \"Topic5\", \"Topic5\", \"Topic5\", \"Topic5\"], \"logprob\": [30.0, 29.0, 28.0, 27.0, 26.0, 25.0, 24.0, 23.0, 22.0, 21.0, 20.0, 19.0, 18.0, 17.0, 16.0, 15.0, 14.0, 13.0, 12.0, 11.0, 10.0, 9.0, 8.0, 7.0, 6.0, 5.0, 4.0, 3.0, 2.0, 1.0, -6.6963, -6.6965, -6.7828, -6.7829, -6.726, -6.8147, -6.9821, -7.0195, -7.0991, -7.0234, -7.1856, -6.8254, -7.2798, -6.3188, -7.2344, -7.3841, -7.1105, -7.4407, -7.3869, -7.5003, -7.5004, -7.5014, -7.5641, -7.5641, -7.5641, -7.5642, -7.5042, -7.565, -6.7285, -6.9362, -6.2126, -5.7587, -5.8906, -5.9323, -6.2719, -6.8586, -5.5703, -6.3422, -6.7057, -6.3818, -6.9581, -5.8285, -6.8147, -4.8025, -5.3559, -5.3018, -5.5275, -5.82, -6.3911, -6.1939, -6.0132, -6.262, -5.1844, -5.9919, -5.6492, -5.9992, -5.6387, -6.2238, -5.7689, -6.1997, -5.5336, -4.5548, -5.2958, -5.5709, -5.6749, -5.2707, -5.5804, -5.8544, -5.4282, -5.7196, -5.5976, -5.4516, -5.9235, -5.8542, -5.8616, -5.7851, -5.8054, -5.8271, -6.5177, -6.4254, -6.883, -6.5073, -7.0434, -7.0902, -6.1517, -6.2254, -5.7345, -7.2989, -7.5353, -7.3547, -7.7713, -7.3118, -7.4284, -5.8681, -7.4414, -6.9436, -6.7812, -7.286, -6.5457, -8.0842, -7.7185, -8.2122, -8.2128, -7.2457, -6.7381, -6.9297, -6.6602, -7.3561, -5.7021, -5.6999, -5.6231, -5.5183, -6.6978, -5.8646, -5.0665, -5.713, -6.4748, -6.2919, -5.4358, -6.6632, -6.5738, -5.6621, -5.6104, -5.9888, -6.2278, -6.2394, -5.8598, -6.2988, -6.1566, -5.1711, -5.329, -5.4161, -5.8465, -5.7738, -5.8323, -5.0126, -5.5358, -5.8129, -5.6213, -5.9382, -5.9481, -6.008, -5.6832, -5.587, -5.967, -5.9281, -5.9615, -6.2979, -6.7089, -6.7502, -6.816, -6.9108, -6.9618, -7.0437, -6.9148, -7.1024, -7.1969, -7.3015, -7.302, -7.2669, -7.3389, -7.3778, -7.3781, -7.4183, -7.4186, -7.4608, -7.4612, -6.6898, -7.5051, -7.5508, -7.5517, -6.2256, -7.5993, -7.5997, -7.6, -7.6499, -7.65, -6.4474, -6.8889, -6.332, -6.5165, -6.9397, -6.5338, -6.8279, -6.9901, -6.3248, -6.8014, -6.5332, -7.1028, -6.0289, -6.5257, -6.8927, -5.6314, -6.165, -5.8833, -5.443, -4.9316, -6.1617, -6.0721, -5.2691, -4.4395, -5.647, -5.8666, -6.3307, -6.387, -6.2917, -6.1661, -6.6821, -5.5926, -5.6659, -6.0212, -5.6523, -6.2525, -5.7298, -5.7608, -5.8204, -5.8885, -5.5912, -5.81, -5.9049, -5.9373, -5.9937, -6.0892, -6.0769, -6.0281, -6.1652, -6.3178, -5.7528, -6.7254, -6.9434, -6.9042, -7.4055, -7.5116, -7.6223, -6.7302, -7.6259, -5.2073, -6.7382, -7.753, -6.6708, -6.7209, -6.5015, -5.9992, -8.0803, -6.788, -7.3172, -6.9486, -7.6958, -8.1037, -6.4055, -7.3393, -7.6175, -8.1304, -7.0897, -6.6768, -6.252, -5.797, -6.5776, -5.6732, -5.6369, -6.8515, -6.4, -5.2171, -6.4268, -6.2888, -5.4385, -6.1369, -5.8677, -5.745, -5.8057, -6.0921, -5.4287, -6.1744, -5.6994, -6.2037, -6.1201, -6.0869, -5.848, -6.0815, -5.6093, -5.7897, -5.6236, -5.9635, -5.8888, -6.0054, -5.8818, -5.8844, -5.999, -6.115, -6.0156, -6.0924, -6.4228, -6.7691, -6.5188, -7.0734, -7.1458, -6.7893, -7.2356, -6.2874, -6.0333, -6.7872, -6.7873, -7.7525, -6.8946, -7.9023, -6.8605, -6.6355, -7.91, -7.7786, -6.9742, -8.0769, -7.9242, -7.9268, -6.066, -7.3128, -6.5078, -6.6671, -7.2475, -7.9454, -5.0207, -7.4246, -6.2495, -6.5489, -6.2878, -6.1748, -5.2278, -6.4754, -6.1463, -5.863, -6.3887, -6.5368, -5.486, -4.471, -5.7246, -5.92, -5.1755, -4.7824, -5.9508, -6.1165, -5.4629, -5.7784, -5.9434, -4.5857, -5.978, -5.4471, -5.0995, -5.6331, -6.1414, -5.9078, -6.2366, -5.8709, -5.5878, -5.6728, -5.8945, -5.8873, -6.0312, -6.0239, -6.0335, -6.0218], \"loglift\": [30.0, 29.0, 28.0, 27.0, 26.0, 25.0, 24.0, 23.0, 22.0, 21.0, 20.0, 19.0, 18.0, 17.0, 16.0, 15.0, 14.0, 13.0, 12.0, 11.0, 10.0, 9.0, 8.0, 7.0, 6.0, 5.0, 4.0, 3.0, 2.0, 1.0, 1.4528, 1.4527, 1.4509, 1.4508, 1.4506, 1.4489, 1.4459, 1.4449, 1.4424, 1.441, 1.4393, 1.438, 1.4362, 1.4352, 1.435, 1.432, 1.4315, 1.4296, 1.4293, 1.4272, 1.4271, 1.4262, 1.4242, 1.4241, 1.4241, 1.4241, 1.4233, 1.4232, 1.4224, 1.4224, 1.4195, 1.3947, 1.3918, 1.3851, 1.3926, 1.4044, 1.3365, 1.3749, 1.3928, 1.3728, 1.4015, 1.3156, 1.3891, 1.2008, 1.2545, 1.2488, 1.2655, 1.2745, 1.3429, 1.3087, 1.2794, 1.3084, 1.0777, 1.2359, 1.159, 1.2148, 1.0989, 1.2602, 1.098, 1.2296, 0.945, 0.4892, 0.8213, 0.9363, 0.9637, 0.7377, 0.9051, 1.0594, 0.7645, 0.9218, 0.7718, 0.6362, 1.0062, 0.7944, 0.7768, 0.4924, 0.2164, 0.3134, 1.5678, 1.5651, 1.5593, 1.5542, 1.5532, 1.549, 1.5443, 1.5408, 1.5391, 1.5319, 1.5316, 1.5301, 1.5188, 1.5181, 1.5142, 1.5026, 1.5018, 1.5013, 1.4976, 1.4952, 1.4941, 1.4937, 1.4925, 1.4836, 1.483, 1.4826, 1.4812, 1.4801, 1.4773, 1.4769, 1.4711, 1.4594, 1.4501, 1.4462, 1.4643, 1.426, 1.3736, 1.405, 1.4487, 1.4359, 1.337, 1.4518, 1.4221, 1.281, 1.2571, 1.3039, 1.3509, 1.3533, 1.2389, 1.345, 1.2876, 0.917, 0.9649, 0.9733, 1.1338, 1.0998, 1.1159, 0.5355, 0.8439, 0.9894, 0.738, 1.0509, 1.0585, 1.1211, 0.7341, 0.6112, 0.9517, 0.6531, 0.4695, 1.129, 1.1237, 1.1232, 1.122, 1.1204, 1.1194, 1.1176, 1.1166, 1.1162, 1.1142, 1.1115, 1.111, 1.111, 1.1105, 1.1093, 1.1091, 1.1082, 1.1078, 1.1065, 1.1062, 1.105, 1.1049, 1.1037, 1.1029, 1.1019, 1.1018, 1.1014, 1.1011, 1.1001, 1.1, 1.0947, 1.0965, 1.084, 1.0876, 1.0936, 1.0853, 1.0904, 1.0931, 1.0514, 1.0756, 1.0566, 1.0887, 1.0192, 1.0486, 1.0716, 0.9579, 0.9987, 0.967, 0.9063, 0.8283, 0.9727, 0.957, 0.7702, 0.6044, 0.8343, 0.8686, 0.9679, 0.9562, 0.9248, 0.8572, 1.0392, 0.5691, 0.5219, 0.7118, 0.4882, 0.8189, 0.358, 0.273, 0.3309, 0.389, -0.0431, 0.2118, 0.2878, 0.1509, 0.1298, 0.379, 0.2824, -0.0881, 0.4226, 2.0626, 2.0536, 2.0437, 2.0367, 2.0177, 2.0088, 1.9976, 1.9921, 1.9901, 1.9885, 1.9878, 1.9821, 1.9788, 1.9623, 1.9555, 1.941, 1.9394, 1.9376, 1.9284, 1.9246, 1.916, 1.916, 1.9135, 1.9023, 1.9011, 1.8848, 1.8845, 1.8842, 1.8687, 1.8667, 1.848, 1.8569, 1.8264, 1.8243, 1.863, 1.8264, 1.7205, 1.8228, 1.7583, 1.4883, 1.6357, 1.5451, 1.4946, 1.4902, 1.5896, 1.0163, 1.502, 1.0907, 1.4824, 1.3887, 1.3326, 1.007, 1.2332, 0.575, 0.798, 0.4157, 1.0046, 0.6911, 0.6973, 0.2799, 0.1239, 0.4691, 1.0167, 0.1722, 0.2566, 2.0633, 2.0531, 2.0414, 2.0356, 2.0321, 2.0319, 2.0157, 2.0023, 1.9982, 1.9858, 1.9856, 1.983, 1.9756, 1.966, 1.9612, 1.9591, 1.9579, 1.9568, 1.9502, 1.9447, 1.9432, 1.9413, 1.9397, 1.9388, 1.9346, 1.9268, 1.9262, 1.9205, 1.9001, 1.8992, 1.8979, 1.897, 1.8848, 1.8749, 1.8279, 1.8711, 1.8364, 1.8132, 1.8393, 1.8411, 1.6709, 1.4691, 1.6274, 1.6457, 1.4057, 1.2515, 1.6427, 1.6938, 1.4195, 1.5376, 1.6027, 0.9624, 1.5828, 1.2556, 1.024, 1.3141, 1.6358, 1.425, 1.6995, 1.1383, 0.6104, 0.7445, 1.0993, 0.6926, 1.1654, 1.0661, 0.8446, -0.0]}, \"token.table\": {\"Topic\": [1, 2, 3, 4, 5, 2, 3, 2, 3, 5, 1, 2, 3, 4, 5, 1, 2, 3, 4, 5, 5, 4, 1, 2, 3, 4, 5, 2, 5, 2, 3, 4, 5, 5, 2, 3, 5, 1, 2, 3, 4, 5, 2, 3, 3, 4, 5, 1, 2, 3, 4, 5, 1, 3, 4, 5, 4, 1, 2, 3, 4, 5, 1, 2, 3, 4, 2, 3, 5, 2, 4, 5, 1, 2, 4, 5, 1, 3, 4, 5, 1, 2, 2, 5, 3, 1, 5, 3, 4, 2, 3, 1, 3, 4, 1, 2, 3, 4, 5, 2, 5, 3, 2, 5, 1, 1, 2, 3, 4, 5, 1, 2, 5, 1, 2, 3, 5, 4, 3, 2, 3, 5, 3, 3, 4, 1, 3, 4, 3, 4, 3, 2, 4, 3, 4, 3, 1, 2, 3, 5, 2, 3, 4, 5, 2, 3, 4, 5, 1, 3, 4, 5, 4, 1, 2, 3, 4, 1, 1, 1, 2, 3, 4, 3, 4, 5, 1, 3, 4, 1, 2, 3, 4, 1, 2, 3, 4, 1, 1, 2, 1, 2, 3, 4, 5, 2, 3, 4, 2, 4, 5, 2, 3, 5, 2, 3, 4, 5, 2, 5, 2, 3, 5, 2, 5, 1, 2, 3, 4, 5, 1, 5, 2, 3, 4, 5, 2, 3, 4, 5, 5, 2, 3, 4, 3, 5, 3, 2, 4, 1, 2, 3, 4, 5, 1, 2, 3, 4, 5, 5, 3, 4, 3, 2, 5, 2, 3, 4, 5, 1, 2, 4, 2, 4, 1, 2, 4, 5, 1, 3, 4, 1, 2, 3, 4, 5, 1, 3, 4, 1, 3, 1, 1, 2, 3, 5, 1, 2, 3, 4, 5, 3, 5, 2, 1, 2, 4, 1, 1, 2, 4, 1, 4, 5, 1, 3, 4, 1, 4, 2, 3, 4, 5, 1, 2, 3, 4, 1, 2, 5, 1, 2, 5, 1, 2, 5, 1, 4, 1, 2, 3, 4, 3, 1, 2, 3, 4, 5, 1, 2, 3, 4, 5, 1, 3, 2, 3, 4, 5, 1, 3, 1, 3, 1, 1, 1, 5, 3, 4, 5, 1, 1, 2, 3, 4, 5, 1, 2, 3, 4, 5, 1, 2, 3, 4, 5, 1, 2, 3, 4, 1, 2, 4, 5, 2, 3, 4, 5, 2, 4, 2, 3, 4, 5, 2, 3, 4, 5, 2, 3, 4, 5, 2, 3, 4, 5, 2, 2, 4, 1, 2, 3, 4, 5, 1, 2, 3, 4, 5, 1, 3, 4, 5, 3, 2, 3, 4, 5, 3, 1, 3, 4, 5, 1, 2, 3, 4, 5, 2, 3, 4, 5, 2, 3, 5, 1, 2, 3, 1, 3, 4, 1, 3, 4, 5, 1, 2, 3, 4, 5, 1, 2, 3, 4, 5, 1, 2, 3, 4, 5, 1, 1, 2, 3, 4, 5, 1, 3, 4, 5, 1, 2, 3, 4, 5, 1, 2, 3, 4, 5, 1, 2, 3, 5, 2, 3, 2, 3, 5, 1, 2, 4, 1, 2, 3, 4, 5, 2, 4, 2, 3, 2, 4, 3, 4, 3, 4, 5, 2, 4, 5, 1, 2, 3, 4, 1, 2, 3, 4, 2, 3, 4, 1, 2, 3, 4, 5, 2, 3, 5, 1, 2, 3, 4, 5, 2, 4, 2, 1, 3, 4, 5, 3, 1, 3, 2, 4, 1, 2, 3, 4, 5, 1, 3, 1, 4, 2, 4, 1, 2, 3, 4, 5, 2, 3, 4, 5, 2, 3, 4, 5, 1, 2, 3, 4, 5, 3, 1, 1, 3, 4, 1, 2, 3, 4, 5, 2, 5, 2, 5, 1, 2, 3, 4, 5, 1, 2, 3, 4, 1, 1, 2, 3, 4, 5, 1, 2, 4, 5, 3, 2, 3, 4, 5, 2, 3, 4, 5, 1, 2, 4, 5, 3, 3, 1, 2, 3, 4, 5, 3, 4, 2, 3, 4, 5, 5, 2, 5, 1, 2, 3, 4, 5, 1, 2, 4, 5, 4, 2, 3, 4, 5, 1, 2, 4, 5, 4, 1, 2, 3, 4, 5, 2, 3, 4, 2, 3, 4, 5, 4, 5, 3, 5, 1, 2, 3, 1, 2, 3, 4, 5, 3, 1, 4, 4, 5, 3, 4, 1, 2, 5, 5, 3, 3, 1, 2, 3, 4, 5, 1, 3, 4, 5, 2, 3, 4, 5, 1, 2, 3, 4, 5, 3, 1, 3, 5, 1, 2, 3, 4, 5, 2, 3, 4, 5, 1, 3, 4, 1, 2, 1, 2, 3, 4, 5, 1, 2, 3, 4, 5, 2, 3, 4, 5, 1, 2, 4, 5, 5, 1, 2, 3, 4, 5, 2, 3, 4, 5, 1, 2, 3, 4, 5, 2, 3, 5, 1, 3, 2, 1, 2, 3, 4, 5, 1, 3, 4, 5, 3, 3, 4, 3, 4, 5, 1, 3, 1, 1, 2, 3, 4, 5, 2, 3, 4, 5, 2, 3, 5, 2, 4, 1, 2, 3, 4, 5, 1, 2, 3, 4, 5, 1, 1, 3, 5, 1, 3, 4, 5, 1, 1, 2, 3, 4, 5, 2, 2, 4, 5, 3, 4, 5, 2, 4, 4, 5, 1, 2, 3, 4, 5, 1, 3, 4, 5, 2, 5, 3, 5, 1, 3, 3, 2, 3, 4, 5, 4, 2, 4, 5, 2, 3, 4, 5, 1, 2, 3, 4, 5, 1, 2, 3, 4, 5, 2, 4, 1, 2, 3, 5, 2, 3, 5, 5, 1, 1, 2, 3, 4, 5, 1, 3, 1, 2, 4, 5, 1, 2, 3, 4, 5, 1, 2, 3, 4, 5, 1, 3, 4, 2, 3, 5, 1, 1, 3, 4, 1, 2, 3, 4, 5, 1, 2, 3, 4, 5, 3, 3, 1, 1, 3, 4, 2, 5, 1, 2, 3, 4, 5], \"Freq\": [0.00353426484099908, 0.5124684019448665, 0.37109780830490335, 0.02120558904599448, 0.09542515070697516, 0.7845957610445332, 0.20399489787157865, 0.7166073431137227, 0.1926363825574523, 0.09246546362757711, 0.008701855812032746, 0.583024339406194, 0.21754639530081865, 0.05221113487219648, 0.1479315488045567, 0.01748436199535099, 0.1748436199535099, 0.39339814489539726, 0.04371090498837747, 0.36717160190237075, 0.9291947100637635, 0.9794431946877912, 0.01564117979804604, 0.21897651717264455, 0.08602648888925321, 0.17987356767752946, 0.5083383434364963, 0.07733018504188222, 0.8506320354607044, 0.28156351428108406, 0.31200281312228234, 0.33483228725318104, 0.06848842239269612, 0.9292953575899529, 0.1541336786090847, 0.23120051791362706, 0.6011213465754304, 0.010035385077029786, 0.37130924785010205, 0.2007077015405957, 0.3412030926190127, 0.0702476955392085, 0.9527734771383521, 0.03528790656067971, 0.9730777290328775, 0.08359070234674025, 0.8359070234674024, 0.03804072771664042, 0.15216291086656167, 0.5668068429779423, 0.16357512918155379, 0.08368960097660892, 0.9700272268753707, 0.3979431088764668, 0.553659977567258, 0.03460374859795363, 0.8967305439608098, 0.060055972554390616, 0.6305877118211014, 0.18016791766317183, 0.060055972554390616, 0.060055972554390616, 0.20872012378176502, 0.052180030945441255, 0.13914674918784334, 0.6087670276968147, 0.9329649517552185, 0.0898545753699716, 0.8086911783297445, 0.13525529165506608, 0.03381382291376652, 0.8115317499303966, 0.10859057916849096, 0.6264841105874479, 0.10859057916849096, 0.1587093080154868, 0.6618248394745205, 0.29055724659856996, 0.024213103883214165, 0.03228413851095222, 0.9715235662110072, 0.9555709325556465, 0.8800958080146258, 0.055005988000914115, 0.9870672228767965, 0.945445288152589, 0.02780721435742909, 0.9530041846640817, 0.030254101100447038, 0.8560834531293229, 0.12750179089160127, 0.8403097983337438, 0.10892904793215197, 0.031122585123471994, 0.13292865408738855, 0.03467704019671006, 0.3409908952676489, 0.24851878807642208, 0.24851878807642208, 0.9662989235876285, 0.025428919041779696, 0.9618179614138384, 0.06389411257512712, 0.9264646323393432, 0.9735003530276858, 0.10987764301333924, 0.5398336374133623, 0.12898679832000692, 0.14809595362667463, 0.07165933240000386, 0.04333522694388203, 0.04333522694388203, 0.8667045388776408, 0.600641099806088, 0.09193486221521754, 0.300320549903044, 0.0061289908143478365, 0.9558216473080509, 0.9715751806410012, 0.1214947257914039, 0.2733631330306588, 0.6074736289570195, 0.9791233846928176, 0.16265419193622643, 0.8132709596811322, 0.09789597887384878, 0.04894798943692439, 0.8321158204277146, 0.1846307255911838, 0.7754490474829719, 0.977000844153378, 0.11167288106653564, 0.85615875484344, 0.9557279880019961, 0.02896145418187867, 0.9699530870797973, 0.06424803731573572, 0.0871937649284985, 0.7939221754015915, 0.055069746270630625, 0.09401443040415419, 0.047007215202077096, 0.07051082280311564, 0.7756190508342722, 0.10467924917312701, 0.034893083057709, 0.069786166115418, 0.7676478272695981, 0.15436913612108955, 0.12349530889687164, 0.0720389301898418, 0.6586416474499821, 0.88533603858951, 0.918256173018715, 0.04832927226414289, 0.024164636132071444, 0.8986963379224968, 0.9636119521118188, 0.9666732823702413, 0.05024372377820742, 0.7871516725252495, 0.13398326340855313, 0.03349581585213828, 0.9699754915419418, 0.041867289315800006, 0.9629476542634001, 0.9673429775983492, 0.16532857995940298, 0.8266428997970149, 0.18181855497152996, 0.024793439314299538, 0.09917375725719815, 0.6942163008003871, 0.097717601606995, 0.097717601606995, 0.0488588008034975, 0.78174081285596, 0.9672861933612693, 0.9250739647050291, 0.03426199869277886, 0.5857893206934461, 0.05374213951316019, 0.29558176732238106, 0.048367925561844174, 0.016122641853948058, 0.05402551399607109, 0.7563571959449953, 0.18908929898624882, 0.060264737062578545, 0.060264737062578545, 0.8437063188760997, 0.026667849927939812, 0.9467086724418633, 0.026667849927939812, 0.5485882895866891, 0.20211147511088545, 0.1515836063331641, 0.09383747058719683, 0.9327568512900267, 0.07462054810320214, 0.9515599835902219, 0.9889064839202651, 0.9284735647923421, 0.9268108550604948, 0.9493243837830885, 0.07762613232457265, 0.638259310224264, 0.025875377441524215, 0.04312562906920702, 0.2156281453460351, 0.9535309292383165, 0.018696684887025816, 0.15686397205650482, 0.265462106557162, 0.01206645938896191, 0.5671235912812097, 0.24564225481853652, 0.7274789854241274, 0.009447779031482174, 0.01889555806296435, 0.9720099865486688, 0.12666161907677342, 0.06333080953838671, 0.8233005239990273, 0.9615488186255147, 0.025987805908797693, 0.9662542120396856, 0.11983838598986164, 0.8388687019290315, 0.038096306532273486, 0.05714445979841022, 0.19048153266136741, 0.6285890577825125, 0.07619261306454697, 0.28444188141963495, 0.09922391212312848, 0.3968956484925139, 0.09591644838569087, 0.12237615828519179, 0.9318655713989216, 0.9496159032346987, 0.04828555440176434, 0.9715701540193231, 0.05436002124235919, 0.9241203611201063, 0.26138559716538956, 0.058811759362212654, 0.2483163173071201, 0.4312862353228928, 0.3345434421872317, 0.18734432762484976, 0.4683608190621244, 0.11353208128826489, 0.8514906096619866, 0.010050193841931445, 0.8090406042754813, 0.05527606613062295, 0.12562742302414306, 0.8735860752508355, 0.10418916493817305, 0.01602910229818047, 0.7969226538374558, 0.016836394095157515, 0.14030328412631263, 0.016836394095157515, 0.028060656825262528, 0.813563468191446, 0.12845738971443885, 0.05709217320641726, 0.9088601157871679, 0.05863613650239793, 0.9862450326969333, 0.031085614203952394, 0.07253309980922225, 0.870397197710667, 0.02072374280263493, 0.011825717828918642, 0.3429458170386406, 0.08278002480243049, 0.5439830201302575, 0.023651435657837283, 0.964087035082246, 0.024720180386724255, 0.9676132581134458, 0.06138680909446354, 0.15346702273615886, 0.7673351136807943, 0.9827495596585372, 0.10410989890991254, 0.8707373363374503, 0.018929072529075008, 0.07469762607628512, 0.07469762607628512, 0.8216738868391363, 0.8534756753893024, 0.12192509648418605, 0.02032084941403101, 0.01970352071396224, 0.9654725149841497, 0.3284858119223441, 0.22194987292050278, 0.07102395933456089, 0.38175378142326477, 0.06415114259503979, 0.010691857099173299, 0.021383714198346598, 0.898115996330557, 0.9648742846864273, 0.057090298853054465, 0.9134447816488714, 0.9735530159748335, 0.23252448451473648, 0.7626803092083356, 0.9457284144805723, 0.9211384381396418, 0.061409229209309454, 0.9807122292794973, 0.9457931726056653, 0.07646695338815279, 0.10923850484021828, 0.8083649358176153, 0.010923850484021828, 0.9682068903592462, 0.020201386329675296, 0.22221524962642827, 0.26766836886819767, 0.34342356760448006, 0.15151039747256473, 0.47971172511751436, 0.08158362672066571, 0.2186441196113841, 0.140323837959545, 0.08158362672066571, 0.6901508838471435, 0.3112445162447902, 0.2050494003325715, 0.36615964345102053, 0.08787831442824492, 0.34052846840944906, 0.9331133050440937, 0.06220755366960625, 0.9646827249142217, 0.031118797577878117, 0.9715195133875308, 0.9785864560033001, 0.9673118811500623, 0.9288830198121024, 0.2769443032388638, 0.05934520783689939, 0.6725790221515264, 0.9673105146627559, 0.21104699622650952, 0.29363060344557845, 0.2569267780148812, 0.16057923625930073, 0.07799562904023179, 0.3128331251506029, 0.08938089290017226, 0.5213885419176715, 0.04469044645008613, 0.0335178348375646, 0.3758726593724171, 0.06834048352225766, 0.4741121044356625, 0.06834048352225766, 0.017085120880564415, 0.8433965499384952, 0.04362395947957734, 0.014541319826525779, 0.08724791895915468, 0.012508935716405491, 0.26268765004451533, 0.08756255001483844, 0.6254467858202746, 0.05542121150961868, 0.08313181726442802, 0.02771060575480934, 0.8313181726442802, 0.9175761566094907, 0.07646467971745755, 0.8769022751296122, 0.06189898412679615, 0.030949492063398074, 0.02063299470893205, 0.12015027662293447, 0.030037569155733617, 0.060075138311467234, 0.780976798049074, 0.08524671344989532, 0.08524671344989532, 0.028415571149965107, 0.7956359921990229, 0.12532559426600232, 0.025065118853200462, 0.7268884467428134, 0.12532559426600232, 0.9124281865520285, 0.9006358792457586, 0.07205087033966069, 0.07479259362041486, 0.7396156480241025, 0.13296461088073755, 0.016620576360092194, 0.03324115272018439, 0.12251457564025978, 0.011668054822881883, 0.8342659198360546, 0.023336109645763766, 0.0058340274114409415, 0.015925908725046466, 0.2707404483257899, 0.07962954362523234, 0.6370363490018587, 0.9641528085474507, 0.0075733547114400284, 0.8406423729698432, 0.0530134829800802, 0.09845361124872037, 0.9840751550571748, 0.7843593328405667, 0.1546624036587033, 0.011047314547050236, 0.04418925818820094, 0.590137740892805, 0.010444915768014248, 0.28723518362039185, 0.06266949460808549, 0.04700212095606412, 0.14632255639855923, 0.3365418797166862, 0.49749669175510136, 0.014632255639855922, 0.9268720268939403, 0.9738167686217332, 0.019476335372434664, 0.036189136887559745, 0.05428370533133962, 0.9047284221889936, 0.016337913997711218, 0.9475990118672506, 0.016337913997711218, 0.4962933838068827, 0.44114967449500686, 0.049016630499445206, 0.01838123643729195, 0.6231736846882029, 0.008199653745897408, 0.20499134364743518, 0.10659549869666629, 0.057397576221281846, 0.0843526299249193, 0.40971277392103667, 0.03615112711067971, 0.42176314962459655, 0.04820150281423961, 0.5076450818101635, 0.04333555576428226, 0.2662041282663053, 0.14857904833468202, 0.037144762083670506, 0.963613409294549, 0.6729679467566955, 0.008412099334458694, 0.20189038402700865, 0.05047259600675216, 0.06729679467566956, 0.8043651304768971, 0.1787478067726438, 0.005958260225754793, 0.011916520451509587, 0.015573759444403201, 0.46721278333209604, 0.18688511333283842, 0.038934398611008, 0.2881145497214592, 0.6853187579955462, 0.1232033722239184, 0.10780295069592861, 0.046201264583969406, 0.038501053819974505, 0.9216641317145461, 0.02333326915733028, 0.04666653831466056, 0.01166663457866514, 0.946335009825262, 0.03785340039301048, 0.8933280768254317, 0.059555205121695445, 0.029777602560847723, 0.031600305801417025, 0.9164088682410937, 0.031600305801417025, 0.4310720089721979, 0.0212002627363376, 0.45933902595398135, 0.08126767382262746, 0.0035333771227229337, 0.8573270627683454, 0.14288784379472422, 0.8915990672468901, 0.04953328151371612, 0.9711094662229764, 0.9612811699009857, 0.9475691736022065, 0.04407298481870728, 0.04503901371140837, 0.9007802742281675, 0.04503901371140837, 0.8314944485995293, 0.05939246061425209, 0.09898743435708682, 0.030186579178318018, 0.08049754447551472, 0.8452242169929045, 0.030186579178318018, 0.04992157113354104, 0.07131653019077291, 0.5134790173735649, 0.37084595699201917, 0.04126032190406047, 0.12378096571218142, 0.7839461161771489, 0.17054687754266515, 0.1550426159478774, 0.4651278478436322, 0.19638731353397804, 0.01033617439652516, 0.5271464234042357, 0.4298270836988383, 0.032439779901799116, 0.0077523558332225845, 0.6124361108245842, 0.16279947249767426, 0.031009423332890338, 0.18605653999734204, 0.920637152956137, 0.07464625564509218, 0.9552194880623706, 0.031245494269590994, 0.9061193338181388, 0.015622747134795497, 0.031245494269590994, 0.9855694515768122, 0.9229998960905681, 0.07178888080704418, 0.1349319751873767, 0.8545691761867191, 0.11454560135227117, 0.12981834819924065, 0.7330918486545355, 0.010181831231312994, 0.012727289039141242, 0.7597472692528926, 0.23701517374128703, 0.20119842754167963, 0.7880271745382452, 0.04914357541948215, 0.8845843575506788, 0.02317666583926996, 0.4264506514425673, 0.4264506514425673, 0.1112479960284958, 0.013905999503561976, 0.14878301423524418, 0.8307051628134466, 0.01239858451960368, 0.01239858451960368, 0.019136457946611937, 0.2105010374127313, 0.13395520562628355, 0.6315031122381939, 0.49048562211653235, 0.007847769953864518, 0.4277034624856162, 0.05101050470011936, 0.023543309861593552, 0.9663057504606777, 0.9538625526127231, 0.14491190687719266, 0.8332434645438578, 0.018113988359649082, 0.07700408974214204, 0.33689289262187144, 0.12513164583098083, 0.10588062339544531, 0.35614391505740695, 0.07402736655385142, 0.9130041874975009, 0.17591675416581545, 0.8041908761865849, 0.24094777704679965, 0.14682755163789354, 0.44424746393003683, 0.12423869753975607, 0.04141289917991869, 0.8980564858907932, 0.01870951012272486, 0.01870951012272486, 0.03741902024544972, 0.9892182418587578, 0.5679563921803651, 0.08414168773042446, 0.16828337546084893, 0.0736239767641214, 0.10517710966303058, 0.023526110547062985, 0.8469399796942675, 0.05881527636765746, 0.05881527636765746, 0.9910664355618178, 0.9124146689882822, 0.9302865219297193, 0.02114287549840271, 0.02114287549840271, 0.0592895681478265, 0.8419118676991364, 0.0474316545182612, 0.0474316545182612, 0.14621412750335686, 0.026584386818792154, 0.5848565100134274, 0.2392594813691294, 0.9641653665390165, 0.9730728856465548, 0.0134639613183138, 0.067319806591569, 0.6900280175635823, 0.1884954584563932, 0.03702589362536295, 0.08277757348661756, 0.8277757348661756, 0.272658740602119, 0.23857639802685413, 0.34082342575264873, 0.15337054158869193, 0.81366325960271, 0.8878548264764068, 0.05222675449861216, 0.04715170474025313, 0.7544272758440501, 0.011787926185063283, 0.10609133566556954, 0.08251548329544298, 0.015912370641915665, 0.7956185320957833, 0.06364948256766266, 0.12729896513532532, 0.8652659625199469, 0.5383777062110535, 0.21708778476252158, 0.09117686960025906, 0.1519614493337651, 0.010460296882017432, 0.8891252349714818, 0.010460296882017432, 0.08368237505613946, 0.8994169772377766, 0.008854591673448493, 0.5932576421210491, 0.07969132506103645, 0.1593826501220729, 0.1593826501220729, 0.8639057222027764, 0.08860571509772065, 0.044302857548860326, 0.3286764493976233, 0.41333553484852625, 0.14939838608982878, 0.10955881646587443, 0.05179902752991302, 0.8805834680085213, 0.9459929587657173, 0.04614599798857158, 0.11248769967926632, 0.871779672514314, 0.9819128675756006, 0.05486354552553296, 0.7406578645946948, 0.10972709105106591, 0.05486354552553296, 0.041147659144149716, 0.9902533534287866, 0.06011994579777578, 0.9017991869666366, 0.10877520505709372, 0.8702016404567497, 0.10742220559687034, 0.8593776447749627, 0.054874977047414085, 0.9054371212823323, 0.027437488523707042, 0.9793676529466824, 0.986789016756468, 0.9641848068416474, 0.03883918704235078, 0.7088151635229016, 0.058258780563526166, 0.15535674816940312, 0.04854898380293847, 0.15488227336468052, 0.13939404602821248, 0.06195290934587221, 0.6350173207951901, 0.9483276557041742, 0.03469491423307955, 0.0517980458312716, 0.8805667791316173, 0.4963165287193554, 0.018728925612051146, 0.2809338841807672, 0.10300909086628131, 0.09832685946326852, 0.9618152865536395, 0.8218377217140451, 0.16436754434280904, 0.009668679078988766, 0.3732017241962024, 0.017416080462489446, 0.5859267069880377, 0.003732017241962024, 0.019904091957130794, 0.8659792137868288, 0.0509399537521664, 0.008489992292027734, 0.0764099306282496, 0.9235707754728876, 0.0263877364420825, 0.052775472884165, 0.05483220545047665, 0.932147492658103, 0.17474099523299494, 0.04077289888769882, 0.4892747866523858, 0.27376089253169206, 0.017474099523299494, 0.011178414376486326, 0.10060572938837693, 0.2571035306591855, 0.54774230444783, 0.0894273150118906, 0.05840977193948167, 0.3337701253684667, 0.14185230328159834, 0.4589339223816417, 0.13497649940935347, 0.26995299881870694, 0.07362354513237462, 0.5153648159266223, 0.9027195155427017, 0.00982419165268057, 0.42735233689160484, 0.21613221635897256, 0.08841772487412514, 0.26034107879603513, 0.41761890807043145, 0.11778994843012168, 0.06424906278006637, 0.3962025538104093, 0.016253622398252298, 0.0487608671947569, 0.07314130079213534, 0.04063405599563075, 0.8208079311117411, 0.8852935947349823, 0.026827078628332796, 0.10730831451333118, 0.9433915034313546, 0.04965218439112393, 0.9728935132112084, 0.34535713520245914, 0.4730919660307659, 0.10881115218707617, 0.05204011626338425, 0.014192758980922978, 0.783826927962794, 0.16217108854402634, 0.040542772136006586, 0.013514257378668862, 0.9834906253879756, 0.9642240689991611, 0.024410735924029398, 0.9661384095953529, 0.02356435145354519, 0.02356435145354519, 0.07688368242452445, 0.9097902420235393, 0.9636114995952522, 0.008238496669676664, 0.34807648429383903, 0.3068840009454557, 0.014417369171934162, 0.3213013701173899, 0.12191863489722701, 0.29260472375334484, 0.04876745395889081, 0.5333940276753683, 0.051895429214870975, 0.1902832404545269, 0.7611329618181076, 0.04913842279521854, 0.8844916103139336, 0.11160285355390587, 0.013950356694238233, 0.055801426776952934, 0.7672696181831029, 0.055801426776952934, 0.014498135375445446, 0.11598508300356357, 0.10148694762811812, 0.7684011748986087, 0.014498135375445446, 0.963630767696837, 0.8797293083496193, 0.091638469619752, 0.0183276939239504, 0.7736358830341794, 0.07627396029914445, 0.021792560085469842, 0.14165164055555396, 0.9636158843839904, 0.021028632682852204, 0.7780594092655315, 0.08411453073140882, 0.05607635382093921, 0.0630858980485566, 0.9898668422100149, 0.3934965623413288, 0.10416085473741056, 0.5034441312308177, 0.08996149283694392, 0.779666271253514, 0.14993582139490652, 0.4367302916762644, 0.5415455616785678, 0.9612679553793531, 0.9193054150886821, 0.8081720621791847, 0.014303930304056366, 0.10012751212839456, 0.05006375606419728, 0.028607860608112733, 0.0672937803905967, 0.11215630065099451, 0.1570188209113923, 0.672937803905967, 0.12991877088346235, 0.8228188822619281, 0.11164762317537653, 0.8559651110112201, 0.9583503221324904, 0.034226797219017516, 0.9757545118362276, 0.02692467101624854, 0.10769868406499417, 0.8077401304874563, 0.05384934203249708, 0.9803513943478118, 0.047028820252474145, 0.8935475847970087, 0.047028820252474145, 0.1104698525959699, 0.42179398263915785, 0.03682328419865664, 0.42848912522073174, 0.024527681120644063, 0.08175893706881354, 0.34338753568901687, 0.5477848783610507, 0.7725953846320708, 0.24857101529640105, 0.3748293087802873, 0.0789114334274289, 0.07102029008468602, 0.22489758526817238, 0.88295478353307, 0.08026861668482455, 0.825116823925777, 0.02357476639787934, 0.14144859838727605, 0.01178738319893967, 0.09619443178516025, 0.04809721589258013, 0.8657498860664423, 0.9423156841257152, 0.9666739327377712, 0.033754372259765394, 0.16202098684687388, 0.762848813070698, 0.033754372259765394, 0.013501748903906157, 0.9232652116403783, 0.06839001567706506, 0.5776901524888854, 0.3011363560846318, 0.03072819960047263, 0.0921845988014179, 0.5202757033546538, 0.09459558242811886, 0.23648895607029716, 0.10551045732367104, 0.04729779121405943, 0.11521171784618994, 0.05236896265735907, 0.7384023734687628, 0.06284275518883088, 0.03142137759441544, 0.7261851345512743, 0.24690294574743327, 0.02178555403653823, 0.08307089190468453, 0.8860895136499684, 0.02769029730156151, 0.9706054409706463, 0.9009669057319357, 0.07207735245855486, 0.018019338114638715, 0.2840711620848858, 0.22570037535511475, 0.1673295886253437, 0.21791760379114528, 0.1050674161135879, 0.10933656885426446, 0.17962436311772018, 0.5388730893531605, 0.14838534344507318, 0.02342926475448524, 0.9744586381020767, 0.9757574902516138, 0.9511281587155572, 0.015866157947773636, 0.9202371609708708, 0.06346463179109454, 0.9206462217865281, 0.061376414785768545, 0.06735380081113376, 0.20879678251451467, 0.6533318678679975, 0.060618420730020384, 0.013470760162226751], \"Term\": [\"000\", \"000\", \"000\", \"000\", \"000\", \"1959\", \"1959\", \"1960\", \"1960\", \"1960\", \"1961\", \"1961\", \"1961\", \"1961\", \"1961\", \"30\", \"30\", \"30\", \"30\", \"30\", \"62\", \"academic\", \"act\", \"act\", \"act\", \"act\", \"act\", \"adjustments\", \"adjustments\", \"administration\", \"administration\", \"administration\", \"administration\", \"adopting\", \"agreement\", \"agreement\", \"agreement\", \"aid\", \"aid\", \"aid\", \"aid\", \"aid\", \"aircraft\", \"aircraft\", \"alexander\", \"allocation\", \"allocation\", \"american\", \"american\", \"american\", \"american\", \"american\", \"anne\", \"anti\", \"anti\", \"anti\", \"appearances\", \"areas\", \"areas\", \"areas\", \"areas\", \"areas\", \"art\", \"art\", \"art\", \"art\", \"assessment\", \"assigned\", \"assigned\", \"authorized\", \"authorized\", \"authorized\", \"available\", \"available\", \"available\", \"available\", \"away\", \"away\", \"away\", \"away\", \"baby\", \"bankers\", \"banks\", \"banks\", \"baseball\", \"bed\", \"bed\", \"berlin\", \"berlin\", \"billion\", \"billion\", \"black\", \"black\", \"black\", \"board\", \"board\", \"board\", \"board\", \"board\", \"boats\", \"boats\", \"bombs\", \"bonds\", \"bonds\", \"bride\", \"business\", \"business\", \"business\", \"business\", \"business\", \"calendar\", \"calendar\", \"calendar\", \"came\", \"came\", \"came\", \"came\", \"campus\", \"captain\", \"cars\", \"cars\", \"cars\", \"castro\", \"catholic\", \"catholic\", \"cattle\", \"cattle\", \"cattle\", \"chamber\", \"chamber\", \"charter\", \"chemical\", \"chemical\", \"china\", \"china\", \"chinese\", \"city\", \"city\", \"city\", \"city\", \"claim\", \"claim\", \"claim\", \"claim\", \"claims\", \"claims\", \"claims\", \"claims\", \"class\", \"class\", \"class\", \"class\", \"classical\", \"clay\", \"clay\", \"clay\", \"clerical\", \"cloth\", \"clothes\", \"co\", \"co\", \"co\", \"co\", \"coach\", \"coal\", \"coal\", \"coat\", \"collective\", \"collective\", \"college\", \"college\", \"college\", \"college\", \"colleges\", \"colleges\", \"colleges\", \"colleges\", \"colored\", \"colors\", \"colors\", \"come\", \"come\", \"come\", \"come\", \"come\", \"committee\", \"committee\", \"committee\", \"commodities\", \"commodities\", \"commodities\", \"communist\", \"communist\", \"communist\", \"company\", \"company\", \"company\", \"company\", \"compared\", \"compared\", \"components\", \"congo\", \"connections\", \"conservation\", \"coordination\", \"cost\", \"cost\", \"cost\", \"cost\", \"cost\", \"couldn\", \"couldn\", \"countries\", \"countries\", \"countries\", \"countries\", \"county\", \"county\", \"county\", \"county\", \"cousin\", \"creative\", \"creative\", \"creative\", \"cuba\", \"cuba\", \"cuban\", \"curriculum\", \"curriculum\", \"daily\", \"daily\", \"daily\", \"daily\", \"daily\", \"day\", \"day\", \"day\", \"day\", \"day\", \"definition\", \"democratic\", \"democratic\", \"democrats\", \"denied\", \"denied\", \"department\", \"department\", \"department\", \"department\", \"design\", \"design\", \"design\", \"designer\", \"designer\", \"development\", \"development\", \"development\", \"development\", \"didn\", \"didn\", \"didn\", \"don\", \"don\", \"don\", \"don\", \"don\", \"door\", \"door\", \"door\", \"drill\", \"drill\", \"dry\", \"east\", \"east\", \"east\", \"east\", \"education\", \"education\", \"education\", \"education\", \"education\", \"eisenhower\", \"eisenhower\", \"electronic\", \"engineer\", \"engineer\", \"engineer\", \"entrance\", \"equipment\", \"equipment\", \"equipment\", \"exercise\", \"exercise\", \"exercise\", \"eyes\", \"eyes\", \"eyes\", \"faculty\", \"faculty\", \"federal\", \"federal\", \"federal\", \"federal\", \"feed\", \"feed\", \"feed\", \"feed\", \"fig\", \"filing\", \"filing\", \"fingers\", \"fiscal\", \"fiscal\", \"flowers\", \"forests\", \"forests\", \"frames\", \"fulfill\", \"game\", \"game\", \"game\", \"game\", \"gen\", \"general\", \"general\", \"general\", \"general\", \"general\", \"good\", \"good\", \"good\", \"good\", \"good\", \"got\", \"got\", \"government\", \"government\", \"government\", \"government\", \"guests\", \"guests\", \"hadn\", \"hadn\", \"hair\", \"ham\", \"handsome\", \"hated\", \"hearing\", \"hearing\", \"hearing\", \"hell\", \"high\", \"high\", \"high\", \"high\", \"high\", \"home\", \"home\", \"home\", \"home\", \"home\", \"house\", \"house\", \"house\", \"house\", \"house\", \"inch\", \"inch\", \"inch\", \"inch\", \"income\", \"income\", \"income\", \"income\", \"india\", \"india\", \"india\", \"india\", \"industrial\", \"industrial\", \"industry\", \"industry\", \"industry\", \"industry\", \"insurance\", \"insurance\", \"insurance\", \"insurance\", \"interference\", \"interference\", \"interference\", \"interference\", \"interior\", \"interior\", \"interior\", \"interior\", \"inventories\", \"investment\", \"investment\", \"island\", \"island\", \"island\", \"island\", \"island\", \"john\", \"john\", \"john\", \"john\", \"john\", \"junior\", \"junior\", \"junior\", \"junior\", \"katanga\", \"kennedy\", \"kennedy\", \"kennedy\", \"kennedy\", \"khrushchev\", \"knew\", \"knew\", \"knew\", \"knew\", \"know\", \"know\", \"know\", \"know\", \"know\", \"labor\", \"labor\", \"labor\", \"labor\", \"laboratory\", \"laos\", \"laos\", \"leaders\", \"leaders\", \"leaders\", \"league\", \"league\", \"league\", \"left\", \"left\", \"left\", \"left\", \"let\", \"let\", \"let\", \"let\", \"let\", \"level\", \"level\", \"level\", \"level\", \"level\", \"life\", \"life\", \"life\", \"life\", \"life\", \"liked\", \"little\", \"little\", \"little\", \"little\", \"little\", \"ll\", \"ll\", \"ll\", \"ll\", \"local\", \"local\", \"local\", \"local\", \"local\", \"look\", \"look\", \"look\", \"look\", \"look\", \"looked\", \"looked\", \"looked\", \"looked\", \"machine\", \"machine\", \"machinery\", \"machinery\", \"machinery\", \"machines\", \"machines\", \"machines\", \"man\", \"man\", \"man\", \"man\", \"man\", \"manufacturers\", \"manufacturers\", \"manufacturing\", \"manufacturing\", \"marketing\", \"mathematics\", \"mayor\", \"mayor\", \"meat\", \"meat\", \"meat\", \"medical\", \"medical\", \"medical\", \"meeting\", \"meeting\", \"meeting\", \"meeting\", \"members\", \"members\", \"members\", \"members\", \"membership\", \"membership\", \"membership\", \"men\", \"men\", \"men\", \"men\", \"men\", \"military\", \"military\", \"military\", \"million\", \"million\", \"million\", \"million\", \"million\", \"missile\", \"missile\", \"missiles\", \"monday\", \"monday\", \"monday\", \"monday\", \"moscow\", \"mother\", \"mother\", \"motors\", \"motors\", \"mr\", \"mr\", \"mr\", \"mr\", \"mr\", \"mrs\", \"mrs\", \"music\", \"music\", \"musical\", \"musical\", \"national\", \"national\", \"national\", \"national\", \"national\", \"nations\", \"nations\", \"nations\", \"nations\", \"officer\", \"officer\", \"officer\", \"officer\", \"old\", \"old\", \"old\", \"old\", \"old\", \"opposition\", \"pale\", \"party\", \"party\", \"party\", \"pay\", \"pay\", \"pay\", \"pay\", \"pay\", \"payment\", \"payment\", \"payments\", \"payments\", \"people\", \"people\", \"people\", \"people\", \"people\", \"pieces\", \"pieces\", \"pieces\", \"pieces\", \"pink\", \"place\", \"place\", \"place\", \"place\", \"place\", \"planning\", \"planning\", \"planning\", \"planning\", \"player\", \"polaris\", \"police\", \"police\", \"police\", \"political\", \"political\", \"political\", \"political\", \"pool\", \"pool\", \"pool\", \"pool\", \"pope\", \"premier\", \"president\", \"president\", \"president\", \"president\", \"president\", \"prestige\", \"prestige\", \"problem\", \"problem\", \"problem\", \"problem\", \"proceedings\", \"procurement\", \"procurement\", \"production\", \"production\", \"production\", \"production\", \"production\", \"products\", \"products\", \"products\", \"products\", \"professors\", \"program\", \"program\", \"program\", \"program\", \"property\", \"property\", \"property\", \"property\", \"prosperity\", \"provide\", \"provide\", \"provide\", \"provide\", \"provide\", \"providence\", \"providence\", \"providence\", \"public\", \"public\", \"public\", \"public\", \"puerto\", \"puerto\", \"race\", \"race\", \"radiation\", \"radiation\", \"railroad\", \"range\", \"range\", \"range\", \"range\", \"range\", \"rayburn\", \"recognition\", \"recognition\", \"recommendation\", \"recommendation\", \"recorded\", \"recorded\", \"recreation\", \"recreation\", \"recreation\", \"rehabilitation\", \"republican\", \"republicans\", \"research\", \"research\", \"research\", \"research\", \"research\", \"return\", \"return\", \"return\", \"return\", \"rhode\", \"rhode\", \"rico\", \"rico\", \"right\", \"right\", \"right\", \"right\", \"right\", \"robinson\", \"room\", \"room\", \"room\", \"said\", \"said\", \"said\", \"said\", \"said\", \"sales\", \"sales\", \"sales\", \"sales\", \"sat\", \"sat\", \"sat\", \"savings\", \"savings\", \"school\", \"school\", \"school\", \"school\", \"school\", \"schools\", \"schools\", \"schools\", \"schools\", \"schools\", \"secretary\", \"secretary\", \"secretary\", \"secretary\", \"section\", \"section\", \"section\", \"section\", \"sectors\", \"service\", \"service\", \"service\", \"service\", \"service\", \"services\", \"services\", \"services\", \"services\", \"shall\", \"shall\", \"shall\", \"shall\", \"shall\", \"shares\", \"shares\", \"shares\", \"shelter\", \"shelter\", \"shipments\", \"small\", \"small\", \"small\", \"small\", \"small\", \"son\", \"son\", \"son\", \"son\", \"southern\", \"soviet\", \"soviet\", \"speaker\", \"speaker\", \"speaker\", \"st\", \"st\", \"stared\", \"state\", \"state\", \"state\", \"state\", \"state\", \"states\", \"states\", \"states\", \"states\", \"stations\", \"stations\", \"stations\", \"stockholders\", \"stockholders\", \"student\", \"student\", \"student\", \"student\", \"student\", \"students\", \"students\", \"students\", \"students\", \"students\", \"studio\", \"sun\", \"sun\", \"sun\", \"sure\", \"sure\", \"sure\", \"sure\", \"sweet\", \"system\", \"system\", \"system\", \"system\", \"system\", \"systems\", \"tax\", \"tax\", \"tax\", \"teachers\", \"teachers\", \"teachers\", \"technical\", \"technical\", \"tends\", \"thereof\", \"thought\", \"thought\", \"thought\", \"thought\", \"thought\", \"title\", \"title\", \"title\", \"title\", \"tractor\", \"tractor\", \"treasury\", \"treasury\", \"trees\", \"trees\", \"troops\", \"trust\", \"trust\", \"trust\", \"trust\", \"trustees\", \"unions\", \"unions\", \"unions\", \"united\", \"united\", \"united\", \"united\", \"university\", \"university\", \"university\", \"university\", \"upstairs\", \"use\", \"use\", \"use\", \"use\", \"use\", \"utility\", \"utility\", \"ve\", \"ve\", \"ve\", \"ve\", \"vehicles\", \"vehicles\", \"vehicles\", \"vocational\", \"walls\", \"war\", \"war\", \"war\", \"war\", \"war\", \"wasn\", \"wasn\", \"water\", \"water\", \"water\", \"water\", \"way\", \"way\", \"way\", \"way\", \"way\", \"week\", \"week\", \"week\", \"week\", \"week\", \"went\", \"went\", \"went\", \"west\", \"west\", \"west\", \"windows\", \"woman\", \"woman\", \"woman\", \"work\", \"work\", \"work\", \"work\", \"work\", \"world\", \"world\", \"world\", \"world\", \"world\", \"yankees\", \"yards\", \"yellow\", \"yesterday\", \"yesterday\", \"yesterday\", \"yield\", \"yield\", \"york\", \"york\", \"york\", \"york\", \"york\"]}, \"R\": 30, \"lambda.step\": 0.01, \"plot.opts\": {\"xlab\": \"PC1\", \"ylab\": \"PC2\"}, \"topic.order\": [1, 2, 3, 4, 5]};\n",
       "\n",
       "function LDAvis_load_lib(url, callback){\n",
       "  var s = document.createElement('script');\n",
       "  s.src = url;\n",
       "  s.async = true;\n",
       "  s.onreadystatechange = s.onload = callback;\n",
       "  s.onerror = function(){console.warn(\"failed to load library \" + url);};\n",
       "  document.getElementsByTagName(\"head\")[0].appendChild(s);\n",
       "}\n",
       "\n",
       "if(typeof(LDAvis) !== \"undefined\"){\n",
       "   // already loaded: just create the visualization\n",
       "   !function(LDAvis){\n",
       "       new LDAvis(\"#\" + \"ldavis_el17921404619587462885328646555\", ldavis_el17921404619587462885328646555_data);\n",
       "   }(LDAvis);\n",
       "}else if(typeof define === \"function\" && define.amd){\n",
       "   // require.js is available: use it to load d3/LDAvis\n",
       "   require.config({paths: {d3: \"https://d3js.org/d3.v5\"}});\n",
       "   require([\"d3\"], function(d3){\n",
       "      window.d3 = d3;\n",
       "      LDAvis_load_lib(\"https://cdn.jsdelivr.net/gh/bmabey/pyLDAvis@3.4.0/pyLDAvis/js/ldavis.v3.0.0.js\", function(){\n",
       "        new LDAvis(\"#\" + \"ldavis_el17921404619587462885328646555\", ldavis_el17921404619587462885328646555_data);\n",
       "      });\n",
       "    });\n",
       "}else{\n",
       "    // require.js not available: dynamically load d3 & LDAvis\n",
       "    LDAvis_load_lib(\"https://d3js.org/d3.v5.js\", function(){\n",
       "         LDAvis_load_lib(\"https://cdn.jsdelivr.net/gh/bmabey/pyLDAvis@3.4.0/pyLDAvis/js/ldavis.v3.0.0.js\", function(){\n",
       "                 new LDAvis(\"#\" + \"ldavis_el17921404619587462885328646555\", ldavis_el17921404619587462885328646555_data);\n",
       "            })\n",
       "         });\n",
       "}\n",
       "</script>"
      ],
      "text/plain": [
       "<IPython.core.display.HTML object>"
      ]
     },
     "execution_count": 25,
     "metadata": {},
     "output_type": "execute_result"
    }
   ],
   "source": [
    "pyLDAvis.display(lda_display)"
   ]
  },
  {
   "cell_type": "markdown",
   "id": "a3d14c87",
   "metadata": {},
   "source": [
    "Q: What conclusions do you draw from the visualization above? Please address the principal component scatterplot and the salient terms graph.\n",
    "\n",
    "A: Our topics are distinct (there isn't a lot of overlap), but I would say topics 2 and 4 seem the most similar. Topic 3 is the broadest topic/the topic with the most distribtuion."
   ]
  },
  {
   "cell_type": "code",
   "execution_count": null,
   "id": "d462f150",
   "metadata": {},
   "outputs": [],
   "source": []
  }
 ],
 "metadata": {
  "kernelspec": {
   "display_name": "Python 3 (ipykernel)",
   "language": "python",
   "name": "python3"
  },
  "language_info": {
   "codemirror_mode": {
    "name": "ipython",
    "version": 3
   },
   "file_extension": ".py",
   "mimetype": "text/x-python",
   "name": "python",
   "nbconvert_exporter": "python",
   "pygments_lexer": "ipython3",
   "version": "3.9.7"
  }
 },
 "nbformat": 4,
 "nbformat_minor": 5
}
